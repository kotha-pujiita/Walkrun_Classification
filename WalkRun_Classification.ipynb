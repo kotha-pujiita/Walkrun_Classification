{
 "cells": [
  {
   "cell_type": "markdown",
   "id": "d2a54853",
   "metadata": {},
   "source": [
    "**PROJECT TEAM ID**: PTID-CDS-DEC-23-1712    \n",
    "**PROJECT CODE**   : PRCP-1013-WalkRunClass     \n",
    "**PROJECT NAME**   : Walking Running Classification"
   ]
  },
  {
   "cell_type": "markdown",
   "id": "6fb098f4",
   "metadata": {},
   "source": [
    "# Business case  :\n",
    "* The project's objective is to create a reliable prediction model for accurately determining whether a person is running or walking based on predictor factors from motion sensor readings.  \n",
    "\n",
    "* Extensive data analysis, model creation, and evaluation are integral components of the project, providing valuable insights into user actions and supporting real-world applications like activity monitoring, fitness tracking, and health assessment.  \n",
    "\n",
    "* Improve the precision of activity recognition to provide users with more accurate feedback on their physical activities.  \n",
    "\n",
    "* The increased demand for personalized fitness and health monitoring solutions, driven by wearable gadgets and smartphones with motion sensors, underscores the significance of constructing accurate activity categorization models.  \n",
    "\n",
    "* Implementing a walking-running classification system not only addresses the growing demand for health-conscious technologies but also opens opportunities for data-driven insights and personalized user experiences. The system's success will be measured by its accuracy, user engagement, and positive impact on users' health and fitness journeys."
   ]
  },
  {
   "attachments": {
    "1.webp": {
     "image/webp": "[encoded data removed]"
    }
   },
   "cell_type": "markdown",
   "id": "62e1a75f",
   "metadata": {},
   "source": [
    "# Domain analysis :   \n",
    "  \n",
    "This dataset comprises accelerometer and gyroscope data corresponding to instances of walking and running. The objective is to develop an LSTM (Long Short-Term Memory) model capable of predicting the body's state based on sensor inputs. Thus, we have constructed a model designed to determine whether a person is walking or running, leveraging data from both the left and right accelerometers and gyroscopes.\n",
    " \n",
    "**Accelerometer:**  \n",
    "An accelerometer is a sensor that measures the acceleration of an object. Acceleration is the rate at which velocity changes over time, and an accelerometer monitors and quantifies this change.  \n",
    "\n",
    "**Gyroscope:**  \n",
    "A gyroscope is a type of sensor that detects the rate of rotation or angular velocity around a fixed axis. It assists in determining an object's orientation in three-dimensional space by sensing variations in rotational movement.\n",
    " \n",
    "![1.webp](attachment:1.webp)\n",
    "  \n",
    "**The attributes provides in the dataset:**    \n",
    "**Date and Time:** It provides information on the calendar date and clock timestamp, respectively, for recorded motion sensor readings, enabling analysis of activities over specific days with a temporal perspective..  \n",
    "**Username:** Identification of users contributing to the dataset.  \n",
    "**Wrist:** Identifies the wrist (left or right) where the sensor is placed.  \n",
    "**Activity:** The target variable indicating whether the user is walking or running.  \n",
    "**Acceleration and Gyro Readings:** Raw sensor data capturing movement along different axes.  "
   ]
  },
  {
   "cell_type": "code",
   "execution_count": 1,
   "id": "7456a878",
   "metadata": {},
   "outputs": [
    {
     "name": "stdout",
     "output_type": "stream",
     "text": [
      "WARNING:tensorflow:From C:\\Users\\pujitha\\anaconda3\\Lib\\site-packages\\keras\\src\\losses.py:2976: The name tf.losses.sparse_softmax_cross_entropy is deprecated. Please use tf.compat.v1.losses.sparse_softmax_cross_entropy instead.\n",
      "\n"
     ]
    }
   ],
   "source": [
    "#importing the basic libraries\n",
    "import pandas as pd\n",
    "import numpy as np\n",
    "import matplotlib.pyplot as plt\n",
    "import seaborn as sns\n",
    "pd.set_option('display.max_columns', None)\n",
    "import warnings\n",
    "warnings.filterwarnings('ignore')\n",
    "from sklearn.model_selection import GridSearchCV\n",
    "from sklearn.model_selection import RandomizedSearchCV\n",
    "from sklearn.preprocessing import StandardScaler\n",
    "from sklearn.preprocessing import MinMaxScaler\n",
    "from sklearn.model_selection import train_test_split\n",
    "from sklearn.linear_model import LogisticRegression\n",
    "from sklearn.neighbors import KNeighborsClassifier\n",
    "from sklearn.svm import SVC\n",
    "from sklearn.tree import DecisionTreeClassifier\n",
    "from sklearn.ensemble import RandomForestClassifier\n",
    "from sklearn.ensemble import BaggingClassifier\n",
    "from xgboost import XGBClassifier\n",
    "from sklearn.neural_network import MLPClassifier\n",
    "import tensorflow as tf\n",
    "from tensorflow import keras\n",
    "from sklearn.model_selection import train_test_split\n",
    "from sklearn.preprocessing import StandardScaler\n",
    "from sklearn.metrics import classification_report,accuracy_score,f1_score,precision_score,recall_score"
   ]
  },
  {
   "cell_type": "code",
   "execution_count": 2,
   "id": "6320ad7e",
   "metadata": {},
   "outputs": [],
   "source": [
    "#importing the walkrun csv file\n",
    "df=pd.read_csv('walkrun.csv')"
   ]
  },
  {
   "cell_type": "markdown",
   "id": "59ed61d7",
   "metadata": {},
   "source": [
    "# Basic Checks"
   ]
  },
  {
   "cell_type": "code",
   "execution_count": 3,
   "id": "068b67af",
   "metadata": {},
   "outputs": [
    {
     "name": "stdout",
     "output_type": "stream",
     "text": [
      "<class 'pandas.core.frame.DataFrame'>\n",
      "RangeIndex: 88588 entries, 0 to 88587\n",
      "Data columns (total 11 columns):\n",
      " #   Column          Non-Null Count  Dtype  \n",
      "---  ------          --------------  -----  \n",
      " 0   date            88588 non-null  object \n",
      " 1   time            88588 non-null  object \n",
      " 2   username        88588 non-null  object \n",
      " 3   wrist           88588 non-null  int64  \n",
      " 4   activity        88588 non-null  int64  \n",
      " 5   acceleration_x  88588 non-null  float64\n",
      " 6   acceleration_y  88588 non-null  float64\n",
      " 7   acceleration_z  88588 non-null  float64\n",
      " 8   gyro_x          88588 non-null  float64\n",
      " 9   gyro_y          88588 non-null  float64\n",
      " 10  gyro_z          88588 non-null  float64\n",
      "dtypes: float64(6), int64(2), object(3)\n",
      "memory usage: 7.4+ MB\n"
     ]
    }
   ],
   "source": [
    "# To get the basic information about the file\n",
    "df.info()"
   ]
  },
  {
   "cell_type": "code",
   "execution_count": 4,
   "id": "34ef9ffb",
   "metadata": {
    "scrolled": true
   },
   "outputs": [
    {
     "data": {
      "text/html": [
       "<div>\n",
       "<style scoped>\n",
       "    .dataframe tbody tr th:only-of-type {\n",
       "        vertical-align: middle;\n",
       "    }\n",
       "\n",
       "    .dataframe tbody tr th {\n",
       "        vertical-align: top;\n",
       "    }\n",
       "\n",
       "    .dataframe thead th {\n",
       "        text-align: right;\n",
       "    }\n",
       "</style>\n",
       "<table border=\"1\" class=\"dataframe\">\n",
       "  <thead>\n",
       "    <tr style=\"text-align: right;\">\n",
       "      <th></th>\n",
       "      <th>wrist</th>\n",
       "      <th>activity</th>\n",
       "      <th>acceleration_x</th>\n",
       "      <th>acceleration_y</th>\n",
       "      <th>acceleration_z</th>\n",
       "      <th>gyro_x</th>\n",
       "      <th>gyro_y</th>\n",
       "      <th>gyro_z</th>\n",
       "    </tr>\n",
       "  </thead>\n",
       "  <tbody>\n",
       "    <tr>\n",
       "      <th>count</th>\n",
       "      <td>88588.000000</td>\n",
       "      <td>88588.000000</td>\n",
       "      <td>88588.000000</td>\n",
       "      <td>88588.000000</td>\n",
       "      <td>88588.000000</td>\n",
       "      <td>88588.000000</td>\n",
       "      <td>88588.000000</td>\n",
       "      <td>88588.000000</td>\n",
       "    </tr>\n",
       "    <tr>\n",
       "      <th>mean</th>\n",
       "      <td>0.522170</td>\n",
       "      <td>0.500801</td>\n",
       "      <td>-0.074811</td>\n",
       "      <td>-0.562585</td>\n",
       "      <td>-0.313956</td>\n",
       "      <td>0.004160</td>\n",
       "      <td>0.037203</td>\n",
       "      <td>0.022327</td>\n",
       "    </tr>\n",
       "    <tr>\n",
       "      <th>std</th>\n",
       "      <td>0.499511</td>\n",
       "      <td>0.500002</td>\n",
       "      <td>1.009299</td>\n",
       "      <td>0.658458</td>\n",
       "      <td>0.486815</td>\n",
       "      <td>1.253423</td>\n",
       "      <td>1.198725</td>\n",
       "      <td>1.914423</td>\n",
       "    </tr>\n",
       "    <tr>\n",
       "      <th>min</th>\n",
       "      <td>0.000000</td>\n",
       "      <td>0.000000</td>\n",
       "      <td>-5.350500</td>\n",
       "      <td>-3.299000</td>\n",
       "      <td>-3.753800</td>\n",
       "      <td>-4.430600</td>\n",
       "      <td>-7.464700</td>\n",
       "      <td>-9.480000</td>\n",
       "    </tr>\n",
       "    <tr>\n",
       "      <th>25%</th>\n",
       "      <td>0.000000</td>\n",
       "      <td>0.000000</td>\n",
       "      <td>-0.381800</td>\n",
       "      <td>-1.033500</td>\n",
       "      <td>-0.376000</td>\n",
       "      <td>-0.920700</td>\n",
       "      <td>-0.644825</td>\n",
       "      <td>-1.345125</td>\n",
       "    </tr>\n",
       "    <tr>\n",
       "      <th>50%</th>\n",
       "      <td>1.000000</td>\n",
       "      <td>1.000000</td>\n",
       "      <td>-0.059500</td>\n",
       "      <td>-0.759100</td>\n",
       "      <td>-0.221000</td>\n",
       "      <td>0.018700</td>\n",
       "      <td>0.039300</td>\n",
       "      <td>0.006900</td>\n",
       "    </tr>\n",
       "    <tr>\n",
       "      <th>75%</th>\n",
       "      <td>1.000000</td>\n",
       "      <td>1.000000</td>\n",
       "      <td>0.355500</td>\n",
       "      <td>-0.241775</td>\n",
       "      <td>-0.085900</td>\n",
       "      <td>0.888800</td>\n",
       "      <td>0.733700</td>\n",
       "      <td>1.398200</td>\n",
       "    </tr>\n",
       "    <tr>\n",
       "      <th>max</th>\n",
       "      <td>1.000000</td>\n",
       "      <td>1.000000</td>\n",
       "      <td>5.603300</td>\n",
       "      <td>2.668000</td>\n",
       "      <td>1.640300</td>\n",
       "      <td>4.874200</td>\n",
       "      <td>8.498000</td>\n",
       "      <td>11.266200</td>\n",
       "    </tr>\n",
       "  </tbody>\n",
       "</table>\n",
       "</div>"
      ],
      "text/plain": [
       "              wrist      activity  acceleration_x  acceleration_y  \\\n",
       "count  88588.000000  88588.000000    88588.000000    88588.000000   \n",
       "mean       0.522170      0.500801       -0.074811       -0.562585   \n",
       "std        0.499511      0.500002        1.009299        0.658458   \n",
       "min        0.000000      0.000000       -5.350500       -3.299000   \n",
       "25%        0.000000      0.000000       -0.381800       -1.033500   \n",
       "50%        1.000000      1.000000       -0.059500       -0.759100   \n",
       "75%        1.000000      1.000000        0.355500       -0.241775   \n",
       "max        1.000000      1.000000        5.603300        2.668000   \n",
       "\n",
       "       acceleration_z        gyro_x        gyro_y        gyro_z  \n",
       "count    88588.000000  88588.000000  88588.000000  88588.000000  \n",
       "mean        -0.313956      0.004160      0.037203      0.022327  \n",
       "std          0.486815      1.253423      1.198725      1.914423  \n",
       "min         -3.753800     -4.430600     -7.464700     -9.480000  \n",
       "25%         -0.376000     -0.920700     -0.644825     -1.345125  \n",
       "50%         -0.221000      0.018700      0.039300      0.006900  \n",
       "75%         -0.085900      0.888800      0.733700      1.398200  \n",
       "max          1.640300      4.874200      8.498000     11.266200  "
      ]
     },
     "execution_count": 4,
     "metadata": {},
     "output_type": "execute_result"
    }
   ],
   "source": [
    "#To get the statistical information about the numeric data\n",
    "df.describe()"
   ]
  },
  {
   "cell_type": "code",
   "execution_count": 5,
   "id": "1e7c887f",
   "metadata": {
    "scrolled": false
   },
   "outputs": [
    {
     "data": {
      "text/html": [
       "<div>\n",
       "<style scoped>\n",
       "    .dataframe tbody tr th:only-of-type {\n",
       "        vertical-align: middle;\n",
       "    }\n",
       "\n",
       "    .dataframe tbody tr th {\n",
       "        vertical-align: top;\n",
       "    }\n",
       "\n",
       "    .dataframe thead th {\n",
       "        text-align: right;\n",
       "    }\n",
       "</style>\n",
       "<table border=\"1\" class=\"dataframe\">\n",
       "  <thead>\n",
       "    <tr style=\"text-align: right;\">\n",
       "      <th></th>\n",
       "      <th>date</th>\n",
       "      <th>time</th>\n",
       "      <th>username</th>\n",
       "    </tr>\n",
       "  </thead>\n",
       "  <tbody>\n",
       "    <tr>\n",
       "      <th>count</th>\n",
       "      <td>88588</td>\n",
       "      <td>88588</td>\n",
       "      <td>88588</td>\n",
       "    </tr>\n",
       "    <tr>\n",
       "      <th>unique</th>\n",
       "      <td>12</td>\n",
       "      <td>88588</td>\n",
       "      <td>1</td>\n",
       "    </tr>\n",
       "    <tr>\n",
       "      <th>top</th>\n",
       "      <td>16-07-2017</td>\n",
       "      <td>13:51:15:847724020</td>\n",
       "      <td>viktor</td>\n",
       "    </tr>\n",
       "    <tr>\n",
       "      <th>freq</th>\n",
       "      <td>20480</td>\n",
       "      <td>1</td>\n",
       "      <td>88588</td>\n",
       "    </tr>\n",
       "  </tbody>\n",
       "</table>\n",
       "</div>"
      ],
      "text/plain": [
       "              date                time username\n",
       "count        88588               88588    88588\n",
       "unique          12               88588        1\n",
       "top     16-07-2017  13:51:15:847724020   viktor\n",
       "freq         20480                   1    88588"
      ]
     },
     "execution_count": 5,
     "metadata": {},
     "output_type": "execute_result"
    }
   ],
   "source": [
    "#To get the statistical information about the categorical data\n",
    "df.describe(include='O')"
   ]
  },
  {
   "cell_type": "code",
   "execution_count": 6,
   "id": "af6b0a0c",
   "metadata": {},
   "outputs": [
    {
     "data": {
      "text/html": [
       "<div>\n",
       "<style scoped>\n",
       "    .dataframe tbody tr th:only-of-type {\n",
       "        vertical-align: middle;\n",
       "    }\n",
       "\n",
       "    .dataframe tbody tr th {\n",
       "        vertical-align: top;\n",
       "    }\n",
       "\n",
       "    .dataframe thead th {\n",
       "        text-align: right;\n",
       "    }\n",
       "</style>\n",
       "<table border=\"1\" class=\"dataframe\">\n",
       "  <thead>\n",
       "    <tr style=\"text-align: right;\">\n",
       "      <th></th>\n",
       "      <th>date</th>\n",
       "      <th>time</th>\n",
       "      <th>username</th>\n",
       "      <th>wrist</th>\n",
       "      <th>activity</th>\n",
       "      <th>acceleration_x</th>\n",
       "      <th>acceleration_y</th>\n",
       "      <th>acceleration_z</th>\n",
       "      <th>gyro_x</th>\n",
       "      <th>gyro_y</th>\n",
       "      <th>gyro_z</th>\n",
       "    </tr>\n",
       "  </thead>\n",
       "  <tbody>\n",
       "    <tr>\n",
       "      <th>0</th>\n",
       "      <td>30-06-2017</td>\n",
       "      <td>13:51:15:847724020</td>\n",
       "      <td>viktor</td>\n",
       "      <td>0</td>\n",
       "      <td>0</td>\n",
       "      <td>0.2650</td>\n",
       "      <td>-0.7814</td>\n",
       "      <td>-0.0076</td>\n",
       "      <td>-0.0590</td>\n",
       "      <td>0.0325</td>\n",
       "      <td>-2.9296</td>\n",
       "    </tr>\n",
       "    <tr>\n",
       "      <th>1</th>\n",
       "      <td>30-06-2017</td>\n",
       "      <td>13:51:16:246945023</td>\n",
       "      <td>viktor</td>\n",
       "      <td>0</td>\n",
       "      <td>0</td>\n",
       "      <td>0.6722</td>\n",
       "      <td>-1.1233</td>\n",
       "      <td>-0.2344</td>\n",
       "      <td>-0.1757</td>\n",
       "      <td>0.0208</td>\n",
       "      <td>0.1269</td>\n",
       "    </tr>\n",
       "    <tr>\n",
       "      <th>2</th>\n",
       "      <td>30-06-2017</td>\n",
       "      <td>13:51:16:446233987</td>\n",
       "      <td>viktor</td>\n",
       "      <td>0</td>\n",
       "      <td>0</td>\n",
       "      <td>0.4399</td>\n",
       "      <td>-1.4817</td>\n",
       "      <td>0.0722</td>\n",
       "      <td>-0.9105</td>\n",
       "      <td>0.1063</td>\n",
       "      <td>-2.4367</td>\n",
       "    </tr>\n",
       "    <tr>\n",
       "      <th>3</th>\n",
       "      <td>30-06-2017</td>\n",
       "      <td>13:51:16:646117985</td>\n",
       "      <td>viktor</td>\n",
       "      <td>0</td>\n",
       "      <td>0</td>\n",
       "      <td>0.3031</td>\n",
       "      <td>-0.8125</td>\n",
       "      <td>0.0888</td>\n",
       "      <td>0.1199</td>\n",
       "      <td>-0.4099</td>\n",
       "      <td>-2.9336</td>\n",
       "    </tr>\n",
       "    <tr>\n",
       "      <th>4</th>\n",
       "      <td>30-06-2017</td>\n",
       "      <td>13:51:16:846738994</td>\n",
       "      <td>viktor</td>\n",
       "      <td>0</td>\n",
       "      <td>0</td>\n",
       "      <td>0.4814</td>\n",
       "      <td>-0.9312</td>\n",
       "      <td>0.0359</td>\n",
       "      <td>0.0527</td>\n",
       "      <td>0.4379</td>\n",
       "      <td>2.4922</td>\n",
       "    </tr>\n",
       "  </tbody>\n",
       "</table>\n",
       "</div>"
      ],
      "text/plain": [
       "         date                time username  wrist  activity  acceleration_x  \\\n",
       "0  30-06-2017  13:51:15:847724020   viktor      0         0          0.2650   \n",
       "1  30-06-2017  13:51:16:246945023   viktor      0         0          0.6722   \n",
       "2  30-06-2017  13:51:16:446233987   viktor      0         0          0.4399   \n",
       "3  30-06-2017  13:51:16:646117985   viktor      0         0          0.3031   \n",
       "4  30-06-2017  13:51:16:846738994   viktor      0         0          0.4814   \n",
       "\n",
       "   acceleration_y  acceleration_z  gyro_x  gyro_y  gyro_z  \n",
       "0         -0.7814         -0.0076 -0.0590  0.0325 -2.9296  \n",
       "1         -1.1233         -0.2344 -0.1757  0.0208  0.1269  \n",
       "2         -1.4817          0.0722 -0.9105  0.1063 -2.4367  \n",
       "3         -0.8125          0.0888  0.1199 -0.4099 -2.9336  \n",
       "4         -0.9312          0.0359  0.0527  0.4379  2.4922  "
      ]
     },
     "execution_count": 6,
     "metadata": {},
     "output_type": "execute_result"
    }
   ],
   "source": [
    "df.head()"
   ]
  },
  {
   "cell_type": "code",
   "execution_count": 7,
   "id": "40f0634c",
   "metadata": {},
   "outputs": [
    {
     "data": {
      "text/html": [
       "<div>\n",
       "<style scoped>\n",
       "    .dataframe tbody tr th:only-of-type {\n",
       "        vertical-align: middle;\n",
       "    }\n",
       "\n",
       "    .dataframe tbody tr th {\n",
       "        vertical-align: top;\n",
       "    }\n",
       "\n",
       "    .dataframe thead th {\n",
       "        text-align: right;\n",
       "    }\n",
       "</style>\n",
       "<table border=\"1\" class=\"dataframe\">\n",
       "  <thead>\n",
       "    <tr style=\"text-align: right;\">\n",
       "      <th></th>\n",
       "      <th>date</th>\n",
       "      <th>time</th>\n",
       "      <th>username</th>\n",
       "      <th>wrist</th>\n",
       "      <th>activity</th>\n",
       "      <th>acceleration_x</th>\n",
       "      <th>acceleration_y</th>\n",
       "      <th>acceleration_z</th>\n",
       "      <th>gyro_x</th>\n",
       "      <th>gyro_y</th>\n",
       "      <th>gyro_z</th>\n",
       "    </tr>\n",
       "  </thead>\n",
       "  <tbody>\n",
       "    <tr>\n",
       "      <th>88583</th>\n",
       "      <td>09-07-2017</td>\n",
       "      <td>20:9:15:317911028</td>\n",
       "      <td>viktor</td>\n",
       "      <td>0</td>\n",
       "      <td>0</td>\n",
       "      <td>0.3084</td>\n",
       "      <td>-0.8376</td>\n",
       "      <td>-0.1327</td>\n",
       "      <td>0.4823</td>\n",
       "      <td>2.0124</td>\n",
       "      <td>0.6048</td>\n",
       "    </tr>\n",
       "    <tr>\n",
       "      <th>88584</th>\n",
       "      <td>09-07-2017</td>\n",
       "      <td>20:9:15:517889022</td>\n",
       "      <td>viktor</td>\n",
       "      <td>0</td>\n",
       "      <td>0</td>\n",
       "      <td>0.4977</td>\n",
       "      <td>-1.0027</td>\n",
       "      <td>-0.4397</td>\n",
       "      <td>0.1022</td>\n",
       "      <td>-1.2565</td>\n",
       "      <td>-0.0761</td>\n",
       "    </tr>\n",
       "    <tr>\n",
       "      <th>88585</th>\n",
       "      <td>09-07-2017</td>\n",
       "      <td>20:9:15:717828989</td>\n",
       "      <td>viktor</td>\n",
       "      <td>0</td>\n",
       "      <td>0</td>\n",
       "      <td>0.4587</td>\n",
       "      <td>-1.1780</td>\n",
       "      <td>-0.2827</td>\n",
       "      <td>-1.4500</td>\n",
       "      <td>-0.2792</td>\n",
       "      <td>-1.2616</td>\n",
       "    </tr>\n",
       "    <tr>\n",
       "      <th>88586</th>\n",
       "      <td>09-07-2017</td>\n",
       "      <td>20:9:15:917932987</td>\n",
       "      <td>viktor</td>\n",
       "      <td>0</td>\n",
       "      <td>0</td>\n",
       "      <td>0.2590</td>\n",
       "      <td>-0.8582</td>\n",
       "      <td>-0.0759</td>\n",
       "      <td>-1.5165</td>\n",
       "      <td>0.4560</td>\n",
       "      <td>-1.7755</td>\n",
       "    </tr>\n",
       "    <tr>\n",
       "      <th>88587</th>\n",
       "      <td>09-07-2017</td>\n",
       "      <td>20:9:16:117410004</td>\n",
       "      <td>viktor</td>\n",
       "      <td>0</td>\n",
       "      <td>0</td>\n",
       "      <td>0.3140</td>\n",
       "      <td>-0.8008</td>\n",
       "      <td>-0.0911</td>\n",
       "      <td>0.1183</td>\n",
       "      <td>1.0850</td>\n",
       "      <td>1.2814</td>\n",
       "    </tr>\n",
       "  </tbody>\n",
       "</table>\n",
       "</div>"
      ],
      "text/plain": [
       "             date               time username  wrist  activity  \\\n",
       "88583  09-07-2017  20:9:15:317911028   viktor      0         0   \n",
       "88584  09-07-2017  20:9:15:517889022   viktor      0         0   \n",
       "88585  09-07-2017  20:9:15:717828989   viktor      0         0   \n",
       "88586  09-07-2017  20:9:15:917932987   viktor      0         0   \n",
       "88587  09-07-2017  20:9:16:117410004   viktor      0         0   \n",
       "\n",
       "       acceleration_x  acceleration_y  acceleration_z  gyro_x  gyro_y  gyro_z  \n",
       "88583          0.3084         -0.8376         -0.1327  0.4823  2.0124  0.6048  \n",
       "88584          0.4977         -1.0027         -0.4397  0.1022 -1.2565 -0.0761  \n",
       "88585          0.4587         -1.1780         -0.2827 -1.4500 -0.2792 -1.2616  \n",
       "88586          0.2590         -0.8582         -0.0759 -1.5165  0.4560 -1.7755  \n",
       "88587          0.3140         -0.8008         -0.0911  0.1183  1.0850  1.2814  "
      ]
     },
     "execution_count": 7,
     "metadata": {},
     "output_type": "execute_result"
    }
   ],
   "source": [
    "df.tail()"
   ]
  },
  {
   "cell_type": "code",
   "execution_count": 8,
   "id": "c488cb1b",
   "metadata": {},
   "outputs": [
    {
     "data": {
      "text/plain": [
       "date              0\n",
       "time              0\n",
       "username          0\n",
       "wrist             0\n",
       "activity          0\n",
       "acceleration_x    0\n",
       "acceleration_y    0\n",
       "acceleration_z    0\n",
       "gyro_x            0\n",
       "gyro_y            0\n",
       "gyro_z            0\n",
       "dtype: int64"
      ]
     },
     "execution_count": 8,
     "metadata": {},
     "output_type": "execute_result"
    }
   ],
   "source": [
    "#The dataset do not have any null values\n",
    "df.isnull().sum()"
   ]
  },
  {
   "cell_type": "code",
   "execution_count": 9,
   "id": "0f3becd1",
   "metadata": {},
   "outputs": [
    {
     "data": {
      "text/plain": [
       "array([0, 1], dtype=int64)"
      ]
     },
     "execution_count": 9,
     "metadata": {},
     "output_type": "execute_result"
    }
   ],
   "source": [
    "df.activity.unique()"
   ]
  },
  {
   "cell_type": "code",
   "execution_count": 10,
   "id": "4a27969b",
   "metadata": {
    "scrolled": true
   },
   "outputs": [
    {
     "data": {
      "text/plain": [
       "array([0, 1], dtype=int64)"
      ]
     },
     "execution_count": 10,
     "metadata": {},
     "output_type": "execute_result"
    }
   ],
   "source": [
    "df.wrist.unique()"
   ]
  },
  {
   "cell_type": "code",
   "execution_count": 11,
   "id": "2d80e588",
   "metadata": {
    "scrolled": true
   },
   "outputs": [
    {
     "name": "stdout",
     "output_type": "stream",
     "text": [
      "date -------- 12\n",
      "time -------- 88588\n",
      "username -------- 1\n",
      "wrist -------- 2\n",
      "activity -------- 2\n",
      "acceleration_x -------- 30307\n",
      "acceleration_y -------- 23957\n",
      "acceleration_z -------- 19698\n",
      "gyro_x -------- 40988\n",
      "gyro_y -------- 38957\n",
      "gyro_z -------- 51296\n"
     ]
    }
   ],
   "source": [
    "# checking the number of unique values in each column\n",
    "for i in df:\n",
    "    print(i,'--------',df[i].nunique())"
   ]
  },
  {
   "cell_type": "code",
   "execution_count": 12,
   "id": "e7b192f0",
   "metadata": {
    "scrolled": false
   },
   "outputs": [
    {
     "data": {
      "text/plain": [
       "Index(['date', 'time', 'username', 'wrist', 'activity', 'acceleration_x',\n",
       "       'acceleration_y', 'acceleration_z', 'gyro_x', 'gyro_y', 'gyro_z'],\n",
       "      dtype='object')"
      ]
     },
     "execution_count": 12,
     "metadata": {},
     "output_type": "execute_result"
    }
   ],
   "source": [
    "df.columns"
   ]
  },
  {
   "cell_type": "code",
   "execution_count": 13,
   "id": "6dc41e8d",
   "metadata": {},
   "outputs": [],
   "source": [
    "#The column \"username\" holds only a single distinct value, rendering it non-informative. Hence, it can be dropped as it does not provide any meaningful insights.\n",
    "df.drop('username',axis=1,inplace=True)"
   ]
  },
  {
   "cell_type": "markdown",
   "id": "f5c8148b",
   "metadata": {},
   "source": [
    "## Exploratory Data Analyis\n",
    "* Exploratory Data Analysis (EDA) is a crucial step in understanding and summarizing a dataset. Its primary objective is to use a combination of statistical and graphical techniques to uncover patterns, relationships, anomalies, and potential insights within the data. Through EDA, analysts can form hypotheses, detect data quality issues, and make informed decisions about the subsequent stages of the analysis pipeline. By leveraging descriptive statistics, visualizations, and exploratory techniques, EDA establishes a foundational understanding that paves the way for more advanced analyses and modeling."
   ]
  },
  {
   "cell_type": "markdown",
   "id": "b56d54dd",
   "metadata": {},
   "source": [
    "### Univariate Analysis\n",
    "* Univariate Analysis is centered on exploring and summarizing the characteristics of an individual variable within a dataset. Its primary aim is to gain insights into the distribution and central tendency of that specific variable.\n",
    "\n",
    "**Histogram:**\n",
    "\n",
    "* Description: A histogram is a visual tool that illustrates the distribution of a continuous dataset by dividing it into bins or intervals.  \n",
    "* Components:\n",
    "    - Vertical bars represent the frequency or count of observations within each bin.\n",
    "    - Bins categorize data points based on their values.\n",
    "    - The shape of the histogram provides insights into the data distribution, including aspects like skewness or kurtosis.  \n",
    "\n",
    "**Countplot:**  \n",
    "\n",
    "* Description: A countplot is a variation of a bar plot designed to display the counts of observations within different categories of a categorical variable.\n",
    "* Components:\n",
    "    - Vertical bars represent the occurrence counts for each category.\n",
    "    - It is especially beneficial for visualizing the distribution of categorical data, offering a straightforward way to observe and compare the frequencies of different categories."
   ]
  },
  {
   "cell_type": "code",
   "execution_count": 12,
   "id": "799e07ef",
   "metadata": {},
   "outputs": [
    {
     "data": {
      "text/plain": [
       "Index(['date', 'time', 'wrist', 'activity', 'acceleration_x', 'acceleration_y',\n",
       "       'acceleration_z', 'gyro_x', 'gyro_y', 'gyro_z'],\n",
       "      dtype='object')"
      ]
     },
     "execution_count": 12,
     "metadata": {},
     "output_type": "execute_result"
    }
   ],
   "source": [
    "df.columns"
   ]
  },
  {
   "cell_type": "code",
   "execution_count": 21,
   "id": "ef6246c1",
   "metadata": {},
   "outputs": [],
   "source": [
    "df1=df[['acceleration_x',\n",
    "       'acceleration_y', 'acceleration_z', 'gyro_x', 'gyro_y', 'gyro_z']]"
   ]
  },
  {
   "cell_type": "code",
   "execution_count": 14,
   "id": "5dd8f83e",
   "metadata": {
    "scrolled": true
   },
   "outputs": [
    {
     "data": {
      "image/png": "[encoded data removed]",
      "text/plain": [
       "<Figure size 1000x1000 with 6 Axes>"
      ]
     },
     "metadata": {},
     "output_type": "display_data"
    }
   ],
   "source": [
    "plt.figure(figsize=(10,10))\n",
    "plotnumber=1\n",
    "for i in df1:\n",
    "    plt.subplot(3,2,plotnumber)\n",
    "    sns.histplot(df1[i],kde=True)\n",
    "    plotnumber=plotnumber+1\n",
    "plt.tight_layout()"
   ]
  },
  {
   "cell_type": "markdown",
   "id": "7b460ba8",
   "metadata": {},
   "source": [
    "**The histogram plot provides significant insights:**  \n",
    " \n",
    "**Acceleration_x:** The majority of readings are concentrated in the range of -1 to 0.  \n",
    "**Acceleration_y:** In this context, it can be stated that the majority falls within the range of -1.5 to -0.5.  \n",
    "**Acceleration_z:**  The readings for this parameter fall within the range of 0.5 to 0.  \n",
    "**Gyro_x:** It can be asserted that the majority of values fall within the range of -1 to 1.  \n",
    "**Gyro_y:** The data for this parameter exhibits a normal distribution.  \n",
    "**Gyro_z:**  The majority of readings fall within the range of -3 to 3."
   ]
  },
  {
   "cell_type": "code",
   "execution_count": 174,
   "id": "46a3d383",
   "metadata": {
    "collapsed": true
   },
   "outputs": [
    {
     "data": {
      "image/png": "[encoded data removed]",
      "text/plain": [
       "<Figure size 1000x1000 with 6 Axes>"
      ]
     },
     "metadata": {},
     "output_type": "display_data"
    }
   ],
   "source": [
    "plt.figure(figsize=(10,10))\n",
    "plotnumber=1\n",
    "for i in df1:\n",
    "    plt.subplot(3,2,plotnumber)\n",
    "    sns.violinplot(df1[i],kde=True)\n",
    "    plotnumber=plotnumber+1\n",
    "plt.tight_layout()"
   ]
  },
  {
   "cell_type": "code",
   "execution_count": 15,
   "id": "670cd3c0",
   "metadata": {},
   "outputs": [],
   "source": [
    "df2=df[['wrist', 'activity']]"
   ]
  },
  {
   "cell_type": "code",
   "execution_count": 16,
   "id": "f2c675b1",
   "metadata": {
    "scrolled": true
   },
   "outputs": [
    {
     "data": {
      "image/png": "[encoded data removed]",
      "text/plain": [
       "<Figure size 1000x400 with 2 Axes>"
      ]
     },
     "metadata": {},
     "output_type": "display_data"
    }
   ],
   "source": [
    "plt.figure(figsize=(10, 4))\n",
    "\n",
    "plotnumber = 1\n",
    "for i in df2.columns:\n",
    "    plt.subplot(1, 2, plotnumber)\n",
    "    ax = sns.countplot(x=df2[i])\n",
    "    \n",
    "    # Add count annotations on each bar\n",
    "    for p in ax.patches:\n",
    "        ax.annotate(f'{p.get_height()}', (p.get_x() + p.get_width() / 2., p.get_height()),\n",
    "                    ha='center', va='baseline', fontsize=9, color='black', xytext=(0, 5),\n",
    "                    textcoords='offset points')\n",
    "        \n",
    "    plt.xlabel(i)\n",
    "    plt.ylabel('Count')    \n",
    "    plotnumber += 1\n",
    "\n",
    "plt.tight_layout()\n",
    "plt.show()"
   ]
  },
  {
   "cell_type": "markdown",
   "id": "c845226f",
   "metadata": {},
   "source": [
    "**The count plot above offers valuable insights :**  \n",
    "\n",
    "* The \"activity\" column encodes \"0\" as \"walking\" and \"1\" as \"running\".\n",
    "    * Activity:  The graph indicates that approximately 49.91% of individuals are engaged in walking, while around 50.08% are involved in running.  \n",
    " \n",
    "* The \"wrist\" column encodes \"0\" as \"left wrist\" and \"1\" as \"right wrist\".  \n",
    "  * Wrist: The graph illustrates that roughly 47.78% of individuals wear it on the left wrist, whereas approximately 52.22% wear it on the right wrist."
   ]
  },
  {
   "cell_type": "markdown",
   "id": "853f4f5a",
   "metadata": {},
   "source": [
    "### Bivariate Analysis\n",
    "* Bivariate analysis involves the analysis of two variables to understand the relationships between them. It helps to explore the interactions and associations between pairs of variables.  \n",
    "\n",
    "**Scatter Plots** are used for visualizing relationships between two continuous variables.  \n",
    "**Barplots** specifically use bars to represent the counts or proportions of categories in categorical data, providing a straightforward comparison.   "
   ]
  },
  {
   "cell_type": "code",
   "execution_count": 164,
   "id": "aad60ac0",
   "metadata": {
    "scrolled": true
   },
   "outputs": [
    {
     "data": {
      "text/html": [
       "<div>\n",
       "<style scoped>\n",
       "    .dataframe tbody tr th:only-of-type {\n",
       "        vertical-align: middle;\n",
       "    }\n",
       "\n",
       "    .dataframe tbody tr th {\n",
       "        vertical-align: top;\n",
       "    }\n",
       "\n",
       "    .dataframe thead th {\n",
       "        text-align: right;\n",
       "    }\n",
       "</style>\n",
       "<table border=\"1\" class=\"dataframe\">\n",
       "  <thead>\n",
       "    <tr style=\"text-align: right;\">\n",
       "      <th></th>\n",
       "      <th>acceleration_x</th>\n",
       "      <th>acceleration_y</th>\n",
       "      <th>acceleration_z</th>\n",
       "      <th>gyro_x</th>\n",
       "      <th>gyro_y</th>\n",
       "      <th>gyro_z</th>\n",
       "    </tr>\n",
       "  </thead>\n",
       "  <tbody>\n",
       "    <tr>\n",
       "      <th>0</th>\n",
       "      <td>0.2650</td>\n",
       "      <td>-0.7814</td>\n",
       "      <td>-0.0076</td>\n",
       "      <td>-0.0590</td>\n",
       "      <td>0.0325</td>\n",
       "      <td>-2.9296</td>\n",
       "    </tr>\n",
       "    <tr>\n",
       "      <th>1</th>\n",
       "      <td>0.6722</td>\n",
       "      <td>-1.1233</td>\n",
       "      <td>-0.2344</td>\n",
       "      <td>-0.1757</td>\n",
       "      <td>0.0208</td>\n",
       "      <td>0.1269</td>\n",
       "    </tr>\n",
       "    <tr>\n",
       "      <th>2</th>\n",
       "      <td>0.4399</td>\n",
       "      <td>-1.4817</td>\n",
       "      <td>0.0722</td>\n",
       "      <td>-0.9105</td>\n",
       "      <td>0.1063</td>\n",
       "      <td>-2.4367</td>\n",
       "    </tr>\n",
       "    <tr>\n",
       "      <th>3</th>\n",
       "      <td>0.3031</td>\n",
       "      <td>-0.8125</td>\n",
       "      <td>0.0888</td>\n",
       "      <td>0.1199</td>\n",
       "      <td>-0.4099</td>\n",
       "      <td>-2.9336</td>\n",
       "    </tr>\n",
       "    <tr>\n",
       "      <th>4</th>\n",
       "      <td>0.4814</td>\n",
       "      <td>-0.9312</td>\n",
       "      <td>0.0359</td>\n",
       "      <td>0.0527</td>\n",
       "      <td>0.4379</td>\n",
       "      <td>2.4922</td>\n",
       "    </tr>\n",
       "    <tr>\n",
       "      <th>...</th>\n",
       "      <td>...</td>\n",
       "      <td>...</td>\n",
       "      <td>...</td>\n",
       "      <td>...</td>\n",
       "      <td>...</td>\n",
       "      <td>...</td>\n",
       "    </tr>\n",
       "    <tr>\n",
       "      <th>88583</th>\n",
       "      <td>0.3084</td>\n",
       "      <td>-0.8376</td>\n",
       "      <td>-0.1327</td>\n",
       "      <td>0.4823</td>\n",
       "      <td>2.0124</td>\n",
       "      <td>0.6048</td>\n",
       "    </tr>\n",
       "    <tr>\n",
       "      <th>88584</th>\n",
       "      <td>0.4977</td>\n",
       "      <td>-1.0027</td>\n",
       "      <td>-0.4397</td>\n",
       "      <td>0.1022</td>\n",
       "      <td>-1.2565</td>\n",
       "      <td>-0.0761</td>\n",
       "    </tr>\n",
       "    <tr>\n",
       "      <th>88585</th>\n",
       "      <td>0.4587</td>\n",
       "      <td>-1.1780</td>\n",
       "      <td>-0.2827</td>\n",
       "      <td>-1.4500</td>\n",
       "      <td>-0.2792</td>\n",
       "      <td>-1.2616</td>\n",
       "    </tr>\n",
       "    <tr>\n",
       "      <th>88586</th>\n",
       "      <td>0.2590</td>\n",
       "      <td>-0.8582</td>\n",
       "      <td>-0.0759</td>\n",
       "      <td>-1.5165</td>\n",
       "      <td>0.4560</td>\n",
       "      <td>-1.7755</td>\n",
       "    </tr>\n",
       "    <tr>\n",
       "      <th>88587</th>\n",
       "      <td>0.3140</td>\n",
       "      <td>-0.8008</td>\n",
       "      <td>-0.0911</td>\n",
       "      <td>0.1183</td>\n",
       "      <td>1.0850</td>\n",
       "      <td>1.2814</td>\n",
       "    </tr>\n",
       "  </tbody>\n",
       "</table>\n",
       "<p>88588 rows × 6 columns</p>\n",
       "</div>"
      ],
      "text/plain": [
       "       acceleration_x  acceleration_y  acceleration_z  gyro_x  gyro_y  gyro_z\n",
       "0              0.2650         -0.7814         -0.0076 -0.0590  0.0325 -2.9296\n",
       "1              0.6722         -1.1233         -0.2344 -0.1757  0.0208  0.1269\n",
       "2              0.4399         -1.4817          0.0722 -0.9105  0.1063 -2.4367\n",
       "3              0.3031         -0.8125          0.0888  0.1199 -0.4099 -2.9336\n",
       "4              0.4814         -0.9312          0.0359  0.0527  0.4379  2.4922\n",
       "...               ...             ...             ...     ...     ...     ...\n",
       "88583          0.3084         -0.8376         -0.1327  0.4823  2.0124  0.6048\n",
       "88584          0.4977         -1.0027         -0.4397  0.1022 -1.2565 -0.0761\n",
       "88585          0.4587         -1.1780         -0.2827 -1.4500 -0.2792 -1.2616\n",
       "88586          0.2590         -0.8582         -0.0759 -1.5165  0.4560 -1.7755\n",
       "88587          0.3140         -0.8008         -0.0911  0.1183  1.0850  1.2814\n",
       "\n",
       "[88588 rows x 6 columns]"
      ]
     },
     "execution_count": 164,
     "metadata": {},
     "output_type": "execute_result"
    }
   ],
   "source": [
    "df1"
   ]
  },
  {
   "cell_type": "code",
   "execution_count": 165,
   "id": "8da4714a",
   "metadata": {
    "scrolled": true
   },
   "outputs": [
    {
     "data": {
      "text/html": [
       "<div>\n",
       "<style scoped>\n",
       "    .dataframe tbody tr th:only-of-type {\n",
       "        vertical-align: middle;\n",
       "    }\n",
       "\n",
       "    .dataframe tbody tr th {\n",
       "        vertical-align: top;\n",
       "    }\n",
       "\n",
       "    .dataframe thead th {\n",
       "        text-align: right;\n",
       "    }\n",
       "</style>\n",
       "<table border=\"1\" class=\"dataframe\">\n",
       "  <thead>\n",
       "    <tr style=\"text-align: right;\">\n",
       "      <th></th>\n",
       "      <th>time</th>\n",
       "      <th>wrist</th>\n",
       "      <th>activity</th>\n",
       "      <th>acceleration_x</th>\n",
       "      <th>acceleration_y</th>\n",
       "      <th>acceleration_z</th>\n",
       "      <th>gyro_x</th>\n",
       "      <th>gyro_y</th>\n",
       "      <th>gyro_z</th>\n",
       "      <th>month</th>\n",
       "      <th>day</th>\n",
       "    </tr>\n",
       "  </thead>\n",
       "  <tbody>\n",
       "    <tr>\n",
       "      <th>0</th>\n",
       "      <td>13.854167</td>\n",
       "      <td>0</td>\n",
       "      <td>0</td>\n",
       "      <td>0.2650</td>\n",
       "      <td>-0.7814</td>\n",
       "      <td>-0.0076</td>\n",
       "      <td>-0.0590</td>\n",
       "      <td>0.0325</td>\n",
       "      <td>-2.9296</td>\n",
       "      <td>6</td>\n",
       "      <td>30</td>\n",
       "    </tr>\n",
       "    <tr>\n",
       "      <th>1</th>\n",
       "      <td>13.854444</td>\n",
       "      <td>0</td>\n",
       "      <td>0</td>\n",
       "      <td>0.6722</td>\n",
       "      <td>-1.1233</td>\n",
       "      <td>-0.2344</td>\n",
       "      <td>-0.1757</td>\n",
       "      <td>0.0208</td>\n",
       "      <td>0.1269</td>\n",
       "      <td>6</td>\n",
       "      <td>30</td>\n",
       "    </tr>\n",
       "    <tr>\n",
       "      <th>2</th>\n",
       "      <td>13.854444</td>\n",
       "      <td>0</td>\n",
       "      <td>0</td>\n",
       "      <td>0.4399</td>\n",
       "      <td>-1.4817</td>\n",
       "      <td>0.0722</td>\n",
       "      <td>-0.9105</td>\n",
       "      <td>0.1063</td>\n",
       "      <td>-2.4367</td>\n",
       "      <td>6</td>\n",
       "      <td>30</td>\n",
       "    </tr>\n",
       "    <tr>\n",
       "      <th>3</th>\n",
       "      <td>13.854444</td>\n",
       "      <td>0</td>\n",
       "      <td>0</td>\n",
       "      <td>0.3031</td>\n",
       "      <td>-0.8125</td>\n",
       "      <td>0.0888</td>\n",
       "      <td>0.1199</td>\n",
       "      <td>-0.4099</td>\n",
       "      <td>-2.9336</td>\n",
       "      <td>6</td>\n",
       "      <td>30</td>\n",
       "    </tr>\n",
       "    <tr>\n",
       "      <th>4</th>\n",
       "      <td>13.854444</td>\n",
       "      <td>0</td>\n",
       "      <td>0</td>\n",
       "      <td>0.4814</td>\n",
       "      <td>-0.9312</td>\n",
       "      <td>0.0359</td>\n",
       "      <td>0.0527</td>\n",
       "      <td>0.4379</td>\n",
       "      <td>2.4922</td>\n",
       "      <td>6</td>\n",
       "      <td>30</td>\n",
       "    </tr>\n",
       "    <tr>\n",
       "      <th>...</th>\n",
       "      <td>...</td>\n",
       "      <td>...</td>\n",
       "      <td>...</td>\n",
       "      <td>...</td>\n",
       "      <td>...</td>\n",
       "      <td>...</td>\n",
       "      <td>...</td>\n",
       "      <td>...</td>\n",
       "      <td>...</td>\n",
       "      <td>...</td>\n",
       "      <td>...</td>\n",
       "    </tr>\n",
       "    <tr>\n",
       "      <th>88583</th>\n",
       "      <td>20.154167</td>\n",
       "      <td>0</td>\n",
       "      <td>0</td>\n",
       "      <td>0.3084</td>\n",
       "      <td>-0.8376</td>\n",
       "      <td>-0.1327</td>\n",
       "      <td>0.4823</td>\n",
       "      <td>2.0124</td>\n",
       "      <td>0.6048</td>\n",
       "      <td>7</td>\n",
       "      <td>9</td>\n",
       "    </tr>\n",
       "    <tr>\n",
       "      <th>88584</th>\n",
       "      <td>20.154167</td>\n",
       "      <td>0</td>\n",
       "      <td>0</td>\n",
       "      <td>0.4977</td>\n",
       "      <td>-1.0027</td>\n",
       "      <td>-0.4397</td>\n",
       "      <td>0.1022</td>\n",
       "      <td>-1.2565</td>\n",
       "      <td>-0.0761</td>\n",
       "      <td>7</td>\n",
       "      <td>9</td>\n",
       "    </tr>\n",
       "    <tr>\n",
       "      <th>88585</th>\n",
       "      <td>20.154167</td>\n",
       "      <td>0</td>\n",
       "      <td>0</td>\n",
       "      <td>0.4587</td>\n",
       "      <td>-1.1780</td>\n",
       "      <td>-0.2827</td>\n",
       "      <td>-1.4500</td>\n",
       "      <td>-0.2792</td>\n",
       "      <td>-1.2616</td>\n",
       "      <td>7</td>\n",
       "      <td>9</td>\n",
       "    </tr>\n",
       "    <tr>\n",
       "      <th>88586</th>\n",
       "      <td>20.154167</td>\n",
       "      <td>0</td>\n",
       "      <td>0</td>\n",
       "      <td>0.2590</td>\n",
       "      <td>-0.8582</td>\n",
       "      <td>-0.0759</td>\n",
       "      <td>-1.5165</td>\n",
       "      <td>0.4560</td>\n",
       "      <td>-1.7755</td>\n",
       "      <td>7</td>\n",
       "      <td>9</td>\n",
       "    </tr>\n",
       "    <tr>\n",
       "      <th>88587</th>\n",
       "      <td>20.154444</td>\n",
       "      <td>0</td>\n",
       "      <td>0</td>\n",
       "      <td>0.3140</td>\n",
       "      <td>-0.8008</td>\n",
       "      <td>-0.0911</td>\n",
       "      <td>0.1183</td>\n",
       "      <td>1.0850</td>\n",
       "      <td>1.2814</td>\n",
       "      <td>7</td>\n",
       "      <td>9</td>\n",
       "    </tr>\n",
       "  </tbody>\n",
       "</table>\n",
       "<p>88588 rows × 11 columns</p>\n",
       "</div>"
      ],
      "text/plain": [
       "            time  wrist  activity  acceleration_x  acceleration_y  \\\n",
       "0      13.854167      0         0          0.2650         -0.7814   \n",
       "1      13.854444      0         0          0.6722         -1.1233   \n",
       "2      13.854444      0         0          0.4399         -1.4817   \n",
       "3      13.854444      0         0          0.3031         -0.8125   \n",
       "4      13.854444      0         0          0.4814         -0.9312   \n",
       "...          ...    ...       ...             ...             ...   \n",
       "88583  20.154167      0         0          0.3084         -0.8376   \n",
       "88584  20.154167      0         0          0.4977         -1.0027   \n",
       "88585  20.154167      0         0          0.4587         -1.1780   \n",
       "88586  20.154167      0         0          0.2590         -0.8582   \n",
       "88587  20.154444      0         0          0.3140         -0.8008   \n",
       "\n",
       "       acceleration_z  gyro_x  gyro_y  gyro_z  month  day  \n",
       "0             -0.0076 -0.0590  0.0325 -2.9296      6   30  \n",
       "1             -0.2344 -0.1757  0.0208  0.1269      6   30  \n",
       "2              0.0722 -0.9105  0.1063 -2.4367      6   30  \n",
       "3              0.0888  0.1199 -0.4099 -2.9336      6   30  \n",
       "4              0.0359  0.0527  0.4379  2.4922      6   30  \n",
       "...               ...     ...     ...     ...    ...  ...  \n",
       "88583         -0.1327  0.4823  2.0124  0.6048      7    9  \n",
       "88584         -0.4397  0.1022 -1.2565 -0.0761      7    9  \n",
       "88585         -0.2827 -1.4500 -0.2792 -1.2616      7    9  \n",
       "88586         -0.0759 -1.5165  0.4560 -1.7755      7    9  \n",
       "88587         -0.0911  0.1183  1.0850  1.2814      7    9  \n",
       "\n",
       "[88588 rows x 11 columns]"
      ]
     },
     "execution_count": 165,
     "metadata": {},
     "output_type": "execute_result"
    }
   ],
   "source": [
    "df"
   ]
  },
  {
   "cell_type": "code",
   "execution_count": 166,
   "id": "73c17291",
   "metadata": {},
   "outputs": [
    {
     "data": {
      "text/plain": [
       "array([0, 1], dtype=int64)"
      ]
     },
     "execution_count": 166,
     "metadata": {},
     "output_type": "execute_result"
    }
   ],
   "source": [
    "df.activity.unique()"
   ]
  },
  {
   "cell_type": "code",
   "execution_count": null,
   "id": "07a69d39",
   "metadata": {},
   "outputs": [],
   "source": [
    "# plt.figure(figsize=(10,10))\n",
    "plotnumber=1\n",
    "for i in df1:\n",
    "    plt.subplot(3,2,plotnumber)\n",
    "    sns.barplot(x=df1[i],y=df['activity'])\n",
    "    plotnumber=plotnumber+1\n",
    "plt.tight_layout()"
   ]
  },
  {
   "cell_type": "code",
   "execution_count": 169,
   "id": "bb1a1fd5",
   "metadata": {
    "scrolled": true
   },
   "outputs": [
    {
     "data": {
      "image/png": "[encoded data removed]",
      "text/plain": [
       "<Figure size 1000x1000 with 6 Axes>"
      ]
     },
     "metadata": {},
     "output_type": "display_data"
    }
   ],
   "source": [
    "plt.figure(figsize=(10,10))\n",
    "plotnumber=1\n",
    "for i in df1:\n",
    "    plt.subplot(3,2,plotnumber)\n",
    "    sns.histplot(x=df1[i], hue=df['activity'])\n",
    "    plotnumber=plotnumber+1\n",
    "plt.tight_layout()"
   ]
  },
  {
   "cell_type": "markdown",
   "id": "ee1c0946",
   "metadata": {},
   "source": [
    "#### Insights:\n",
    "* Within the range of -1 to +1 in the acceleration_x column, it is challenging to differentiate between walking and running activities. However, when the values fall below -1 or exceed +1, it becomes evident that the person is engaged in running.\n",
    "\n",
    "* Within the range of -0.5 to -1.7 in the acceleration_y column, distinguishing between walking and running activities is ambiguous. However, when the values surpass -0.5, it becomes apparent that the person is running.  \n",
    "\n",
    "* Within the range of -0.6 to +0.1 in the acceleration_z column, discerning between walking and running activities is challenging. However, when the values fall below -0.6 or exceed +0.1, it becomes evident that the person is engaged in running.  \n",
    "\n",
    "* Upon reviewing gyro_x, gyro_y, and gyro_z, we find that the graphs overlap extensively, making it challenging to extract meaningful insights from their visual representation."
   ]
  },
  {
   "cell_type": "code",
   "execution_count": 163,
   "id": "5369250a",
   "metadata": {},
   "outputs": [
    {
     "data": {
      "image/png": "[encoded data removed]",
      "text/plain": [
       "<Figure size 800x500 with 1 Axes>"
      ]
     },
     "metadata": {},
     "output_type": "display_data"
    }
   ],
   "source": [
    "plt.figure(figsize=(8,5))\n",
    "ax = sns.countplot(x=df['wrist'], hue=df['activity'])\n",
    "\n",
    "# Add labels on the bars\n",
    "for p in ax.patches:\n",
    "    ax.annotate(f'{p.get_height()}', (p.get_x() + p.get_width() / 1, p.get_height()),\n",
    "                ha='right', va='center', xytext=(0, 10), textcoords='offset points')\n"
   ]
  },
  {
   "cell_type": "markdown",
   "id": "23c9b5fc",
   "metadata": {},
   "source": [
    "**Insights:**\n",
    "* Individuals who wear it on their left hand are predominantly engaged in running, whereas those who wear it on the right hand are mostly walking.  \n",
    "* Out of the total, 52.22% of individuals choose to wear it on their right hand, where 23.31% are involved in running, and 28.89% are walking.  \n",
    "* Out of the total, 47.78% of individuals opt to wear it on their left hand, where 26.76% are involved in running, and 21.02% are walking."
   ]
  },
  {
   "cell_type": "markdown",
   "id": "963ba33a",
   "metadata": {},
   "source": [
    "### DATA PREPROCESSING"
   ]
  },
  {
   "cell_type": "markdown",
   "id": "07ba01a3",
   "metadata": {},
   "source": [
    "#### HANDLING WITH NULL VALUES AND CORRUPTED DATA"
   ]
  },
  {
   "cell_type": "code",
   "execution_count": 14,
   "id": "1fc7624d",
   "metadata": {
    "scrolled": false
   },
   "outputs": [
    {
     "data": {
      "text/plain": [
       "date              0\n",
       "time              0\n",
       "wrist             0\n",
       "activity          0\n",
       "acceleration_x    0\n",
       "acceleration_y    0\n",
       "acceleration_z    0\n",
       "gyro_x            0\n",
       "gyro_y            0\n",
       "gyro_z            0\n",
       "dtype: int64"
      ]
     },
     "execution_count": 14,
     "metadata": {},
     "output_type": "execute_result"
    }
   ],
   "source": [
    "df.isnull().sum()"
   ]
  },
  {
   "cell_type": "markdown",
   "id": "24dc3746",
   "metadata": {},
   "source": [
    "**Since there are no null values present in the data, there is no requirement to address or handle them.**\n",
    "\n",
    "\n",
    "\n",
    "\n",
    "\n"
   ]
  },
  {
   "cell_type": "code",
   "execution_count": 16,
   "id": "8e97bcc7",
   "metadata": {},
   "outputs": [
    {
     "data": {
      "text/plain": [
       "Index(['date', 'time', 'wrist', 'activity', 'acceleration_x', 'acceleration_y',\n",
       "       'acceleration_z', 'gyro_x', 'gyro_y', 'gyro_z'],\n",
       "      dtype='object')"
      ]
     },
     "execution_count": 16,
     "metadata": {},
     "output_type": "execute_result"
    }
   ],
   "source": [
    "df.columns"
   ]
  },
  {
   "cell_type": "markdown",
   "id": "3dc97169",
   "metadata": {},
   "source": [
    "### Handling with Outliers"
   ]
  },
  {
   "cell_type": "code",
   "execution_count": 23,
   "id": "5efa7297",
   "metadata": {
    "scrolled": true
   },
   "outputs": [
    {
     "data": {
      "image/png": "[encoded data removed]",
      "text/plain": [
       "<Figure size 1000x1000 with 6 Axes>"
      ]
     },
     "metadata": {},
     "output_type": "display_data"
    }
   ],
   "source": [
    "plt.figure(figsize=(10,10))\n",
    "plotnumber=1\n",
    "for i in df1:\n",
    "    plt.subplot(3,2,plotnumber)\n",
    "    sns.boxplot(df1[i],orient='h')\n",
    "    plotnumber=plotnumber+1\n",
    "    plt.xlabel(i)\n",
    "plt.tight_layout()"
   ]
  },
  {
   "cell_type": "code",
   "execution_count": 24,
   "id": "f7f86f1d",
   "metadata": {},
   "outputs": [],
   "source": [
    "df.loc[df.acceleration_x>4.4,'acceleration_x']=np.median(df.acceleration_x)"
   ]
  },
  {
   "cell_type": "code",
   "execution_count": 25,
   "id": "63349d80",
   "metadata": {},
   "outputs": [],
   "source": [
    "df.loc[df.acceleration_y<-3,'acceleration_y']=np.median(df.acceleration_y)"
   ]
  },
  {
   "cell_type": "code",
   "execution_count": 26,
   "id": "56717f7f",
   "metadata": {},
   "outputs": [],
   "source": [
    "df.loc[df.acceleration_z<-3.5,'acceleration_z']=np.median(df.acceleration_z)"
   ]
  },
  {
   "cell_type": "code",
   "execution_count": 27,
   "id": "8a17f45b",
   "metadata": {},
   "outputs": [],
   "source": [
    "df.loc[df.acceleration_z>1.4,'acceleration_z']=np.median(df.acceleration_z)"
   ]
  },
  {
   "cell_type": "code",
   "execution_count": 28,
   "id": "54cf21cf",
   "metadata": {},
   "outputs": [],
   "source": [
    "df.loc[df.gyro_y<-7,'gyro_y']=np.median(df.gyro_y)"
   ]
  },
  {
   "cell_type": "code",
   "execution_count": 29,
   "id": "d331b23a",
   "metadata": {},
   "outputs": [],
   "source": [
    "df.loc[df.gyro_y>8,'gyro_y']=np.median(df.gyro_y)"
   ]
  },
  {
   "cell_type": "code",
   "execution_count": 30,
   "id": "809c103c",
   "metadata": {},
   "outputs": [],
   "source": [
    "df.loc[df.gyro_z>10,'gyro_z']=np.median(df.gyro_z)"
   ]
  },
  {
   "cell_type": "code",
   "execution_count": 31,
   "id": "776af268",
   "metadata": {},
   "outputs": [],
   "source": [
    "df.loc[df.gyro_z<-9,'gyro_z']=np.median(df.gyro_z)"
   ]
  },
  {
   "cell_type": "markdown",
   "id": "ad359c5c",
   "metadata": {},
   "source": [
    "### Handling with date column"
   ]
  },
  {
   "cell_type": "code",
   "execution_count": 32,
   "id": "0a7067c8",
   "metadata": {},
   "outputs": [],
   "source": [
    "df['date'] = pd.to_datetime(df['date'], format='%d-%m-%Y')\n",
    "\n"
   ]
  },
  {
   "cell_type": "code",
   "execution_count": 33,
   "id": "7ca3744b",
   "metadata": {},
   "outputs": [],
   "source": [
    "df['year'] = df['date'].dt.year\n",
    "df['month'] = df['date'].dt.month\n",
    "df['day'] = df['date'].dt.day\n"
   ]
  },
  {
   "cell_type": "code",
   "execution_count": 34,
   "id": "6fe136c5",
   "metadata": {
    "scrolled": true
   },
   "outputs": [
    {
     "data": {
      "text/plain": [
       "Index(['date', 'time', 'wrist', 'activity', 'acceleration_x', 'acceleration_y',\n",
       "       'acceleration_z', 'gyro_x', 'gyro_y', 'gyro_z', 'year', 'month', 'day'],\n",
       "      dtype='object')"
      ]
     },
     "execution_count": 34,
     "metadata": {},
     "output_type": "execute_result"
    }
   ],
   "source": [
    "df.columns"
   ]
  },
  {
   "cell_type": "code",
   "execution_count": 105,
   "id": "b51f96b4",
   "metadata": {},
   "outputs": [
    {
     "data": {
      "text/plain": [
       "1"
      ]
     },
     "execution_count": 105,
     "metadata": {},
     "output_type": "execute_result"
    }
   ],
   "source": [
    "df.year.nunique()"
   ]
  },
  {
   "cell_type": "code",
   "execution_count": 35,
   "id": "293bcff2",
   "metadata": {},
   "outputs": [],
   "source": [
    "df.drop('date','year',axis=1,inplace=True)"
   ]
  },
  {
   "cell_type": "markdown",
   "id": "0fc72dba",
   "metadata": {},
   "source": [
    "### Handling with Time column"
   ]
  },
  {
   "cell_type": "code",
   "execution_count": 36,
   "id": "c6564162",
   "metadata": {},
   "outputs": [],
   "source": [
    "df['time'] = pd.to_datetime(df['time'], format='%H:%M:%S:%f')\n",
    "df['time'] = df['time'].dt.hour + df['time'].dt.minute / 60 + df['time'].dt.second / 3600\n"
   ]
  },
  {
   "cell_type": "code",
   "execution_count": 37,
   "id": "a6464fc5",
   "metadata": {},
   "outputs": [
    {
     "data": {
      "text/html": [
       "<div>\n",
       "<style scoped>\n",
       "    .dataframe tbody tr th:only-of-type {\n",
       "        vertical-align: middle;\n",
       "    }\n",
       "\n",
       "    .dataframe tbody tr th {\n",
       "        vertical-align: top;\n",
       "    }\n",
       "\n",
       "    .dataframe thead th {\n",
       "        text-align: right;\n",
       "    }\n",
       "</style>\n",
       "<table border=\"1\" class=\"dataframe\">\n",
       "  <thead>\n",
       "    <tr style=\"text-align: right;\">\n",
       "      <th></th>\n",
       "      <th>time</th>\n",
       "      <th>wrist</th>\n",
       "      <th>activity</th>\n",
       "      <th>acceleration_x</th>\n",
       "      <th>acceleration_y</th>\n",
       "      <th>acceleration_z</th>\n",
       "      <th>gyro_x</th>\n",
       "      <th>gyro_y</th>\n",
       "      <th>gyro_z</th>\n",
       "      <th>year</th>\n",
       "      <th>month</th>\n",
       "      <th>day</th>\n",
       "    </tr>\n",
       "  </thead>\n",
       "  <tbody>\n",
       "    <tr>\n",
       "      <th>0</th>\n",
       "      <td>13.854167</td>\n",
       "      <td>0</td>\n",
       "      <td>0</td>\n",
       "      <td>0.2650</td>\n",
       "      <td>-0.7814</td>\n",
       "      <td>-0.0076</td>\n",
       "      <td>-0.0590</td>\n",
       "      <td>0.0325</td>\n",
       "      <td>-2.9296</td>\n",
       "      <td>2017</td>\n",
       "      <td>6</td>\n",
       "      <td>30</td>\n",
       "    </tr>\n",
       "    <tr>\n",
       "      <th>1</th>\n",
       "      <td>13.854444</td>\n",
       "      <td>0</td>\n",
       "      <td>0</td>\n",
       "      <td>0.6722</td>\n",
       "      <td>-1.1233</td>\n",
       "      <td>-0.2344</td>\n",
       "      <td>-0.1757</td>\n",
       "      <td>0.0208</td>\n",
       "      <td>0.1269</td>\n",
       "      <td>2017</td>\n",
       "      <td>6</td>\n",
       "      <td>30</td>\n",
       "    </tr>\n",
       "    <tr>\n",
       "      <th>2</th>\n",
       "      <td>13.854444</td>\n",
       "      <td>0</td>\n",
       "      <td>0</td>\n",
       "      <td>0.4399</td>\n",
       "      <td>-1.4817</td>\n",
       "      <td>0.0722</td>\n",
       "      <td>-0.9105</td>\n",
       "      <td>0.1063</td>\n",
       "      <td>-2.4367</td>\n",
       "      <td>2017</td>\n",
       "      <td>6</td>\n",
       "      <td>30</td>\n",
       "    </tr>\n",
       "    <tr>\n",
       "      <th>3</th>\n",
       "      <td>13.854444</td>\n",
       "      <td>0</td>\n",
       "      <td>0</td>\n",
       "      <td>0.3031</td>\n",
       "      <td>-0.8125</td>\n",
       "      <td>0.0888</td>\n",
       "      <td>0.1199</td>\n",
       "      <td>-0.4099</td>\n",
       "      <td>-2.9336</td>\n",
       "      <td>2017</td>\n",
       "      <td>6</td>\n",
       "      <td>30</td>\n",
       "    </tr>\n",
       "    <tr>\n",
       "      <th>4</th>\n",
       "      <td>13.854444</td>\n",
       "      <td>0</td>\n",
       "      <td>0</td>\n",
       "      <td>0.4814</td>\n",
       "      <td>-0.9312</td>\n",
       "      <td>0.0359</td>\n",
       "      <td>0.0527</td>\n",
       "      <td>0.4379</td>\n",
       "      <td>2.4922</td>\n",
       "      <td>2017</td>\n",
       "      <td>6</td>\n",
       "      <td>30</td>\n",
       "    </tr>\n",
       "    <tr>\n",
       "      <th>...</th>\n",
       "      <td>...</td>\n",
       "      <td>...</td>\n",
       "      <td>...</td>\n",
       "      <td>...</td>\n",
       "      <td>...</td>\n",
       "      <td>...</td>\n",
       "      <td>...</td>\n",
       "      <td>...</td>\n",
       "      <td>...</td>\n",
       "      <td>...</td>\n",
       "      <td>...</td>\n",
       "      <td>...</td>\n",
       "    </tr>\n",
       "    <tr>\n",
       "      <th>88583</th>\n",
       "      <td>20.154167</td>\n",
       "      <td>0</td>\n",
       "      <td>0</td>\n",
       "      <td>0.3084</td>\n",
       "      <td>-0.8376</td>\n",
       "      <td>-0.1327</td>\n",
       "      <td>0.4823</td>\n",
       "      <td>2.0124</td>\n",
       "      <td>0.6048</td>\n",
       "      <td>2017</td>\n",
       "      <td>7</td>\n",
       "      <td>9</td>\n",
       "    </tr>\n",
       "    <tr>\n",
       "      <th>88584</th>\n",
       "      <td>20.154167</td>\n",
       "      <td>0</td>\n",
       "      <td>0</td>\n",
       "      <td>0.4977</td>\n",
       "      <td>-1.0027</td>\n",
       "      <td>-0.4397</td>\n",
       "      <td>0.1022</td>\n",
       "      <td>-1.2565</td>\n",
       "      <td>-0.0761</td>\n",
       "      <td>2017</td>\n",
       "      <td>7</td>\n",
       "      <td>9</td>\n",
       "    </tr>\n",
       "    <tr>\n",
       "      <th>88585</th>\n",
       "      <td>20.154167</td>\n",
       "      <td>0</td>\n",
       "      <td>0</td>\n",
       "      <td>0.4587</td>\n",
       "      <td>-1.1780</td>\n",
       "      <td>-0.2827</td>\n",
       "      <td>-1.4500</td>\n",
       "      <td>-0.2792</td>\n",
       "      <td>-1.2616</td>\n",
       "      <td>2017</td>\n",
       "      <td>7</td>\n",
       "      <td>9</td>\n",
       "    </tr>\n",
       "    <tr>\n",
       "      <th>88586</th>\n",
       "      <td>20.154167</td>\n",
       "      <td>0</td>\n",
       "      <td>0</td>\n",
       "      <td>0.2590</td>\n",
       "      <td>-0.8582</td>\n",
       "      <td>-0.0759</td>\n",
       "      <td>-1.5165</td>\n",
       "      <td>0.4560</td>\n",
       "      <td>-1.7755</td>\n",
       "      <td>2017</td>\n",
       "      <td>7</td>\n",
       "      <td>9</td>\n",
       "    </tr>\n",
       "    <tr>\n",
       "      <th>88587</th>\n",
       "      <td>20.154444</td>\n",
       "      <td>0</td>\n",
       "      <td>0</td>\n",
       "      <td>0.3140</td>\n",
       "      <td>-0.8008</td>\n",
       "      <td>-0.0911</td>\n",
       "      <td>0.1183</td>\n",
       "      <td>1.0850</td>\n",
       "      <td>1.2814</td>\n",
       "      <td>2017</td>\n",
       "      <td>7</td>\n",
       "      <td>9</td>\n",
       "    </tr>\n",
       "  </tbody>\n",
       "</table>\n",
       "<p>88588 rows × 12 columns</p>\n",
       "</div>"
      ],
      "text/plain": [
       "            time  wrist  activity  acceleration_x  acceleration_y  \\\n",
       "0      13.854167      0         0          0.2650         -0.7814   \n",
       "1      13.854444      0         0          0.6722         -1.1233   \n",
       "2      13.854444      0         0          0.4399         -1.4817   \n",
       "3      13.854444      0         0          0.3031         -0.8125   \n",
       "4      13.854444      0         0          0.4814         -0.9312   \n",
       "...          ...    ...       ...             ...             ...   \n",
       "88583  20.154167      0         0          0.3084         -0.8376   \n",
       "88584  20.154167      0         0          0.4977         -1.0027   \n",
       "88585  20.154167      0         0          0.4587         -1.1780   \n",
       "88586  20.154167      0         0          0.2590         -0.8582   \n",
       "88587  20.154444      0         0          0.3140         -0.8008   \n",
       "\n",
       "       acceleration_z  gyro_x  gyro_y  gyro_z  year  month  day  \n",
       "0             -0.0076 -0.0590  0.0325 -2.9296  2017      6   30  \n",
       "1             -0.2344 -0.1757  0.0208  0.1269  2017      6   30  \n",
       "2              0.0722 -0.9105  0.1063 -2.4367  2017      6   30  \n",
       "3              0.0888  0.1199 -0.4099 -2.9336  2017      6   30  \n",
       "4              0.0359  0.0527  0.4379  2.4922  2017      6   30  \n",
       "...               ...     ...     ...     ...   ...    ...  ...  \n",
       "88583         -0.1327  0.4823  2.0124  0.6048  2017      7    9  \n",
       "88584         -0.4397  0.1022 -1.2565 -0.0761  2017      7    9  \n",
       "88585         -0.2827 -1.4500 -0.2792 -1.2616  2017      7    9  \n",
       "88586         -0.0759 -1.5165  0.4560 -1.7755  2017      7    9  \n",
       "88587         -0.0911  0.1183  1.0850  1.2814  2017      7    9  \n",
       "\n",
       "[88588 rows x 12 columns]"
      ]
     },
     "execution_count": 37,
     "metadata": {},
     "output_type": "execute_result"
    }
   ],
   "source": [
    "df"
   ]
  },
  {
   "cell_type": "markdown",
   "id": "d9ef16f7",
   "metadata": {},
   "source": [
    "### Conversion of categorical data into numeric data"
   ]
  },
  {
   "cell_type": "markdown",
   "id": "1d5460f1",
   "metadata": {},
   "source": [
    "**Since all the columns contain numeric values, this step is unnecessary.**"
   ]
  },
  {
   "cell_type": "markdown",
   "id": "ce8759a6",
   "metadata": {},
   "source": [
    "### Scaling"
   ]
  },
  {
   "cell_type": "markdown",
   "id": "43027f50",
   "metadata": {},
   "source": [
    "## Feature Selection"
   ]
  },
  {
   "cell_type": "code",
   "execution_count": 109,
   "id": "56b026b7",
   "metadata": {
    "scrolled": false
   },
   "outputs": [
    {
     "data": {
      "text/html": [
       "<div>\n",
       "<style scoped>\n",
       "    .dataframe tbody tr th:only-of-type {\n",
       "        vertical-align: middle;\n",
       "    }\n",
       "\n",
       "    .dataframe tbody tr th {\n",
       "        vertical-align: top;\n",
       "    }\n",
       "\n",
       "    .dataframe thead th {\n",
       "        text-align: right;\n",
       "    }\n",
       "</style>\n",
       "<table border=\"1\" class=\"dataframe\">\n",
       "  <thead>\n",
       "    <tr style=\"text-align: right;\">\n",
       "      <th></th>\n",
       "      <th>time</th>\n",
       "      <th>wrist</th>\n",
       "      <th>acceleration_x</th>\n",
       "      <th>acceleration_y</th>\n",
       "      <th>acceleration_z</th>\n",
       "      <th>gyro_x</th>\n",
       "      <th>gyro_y</th>\n",
       "      <th>gyro_z</th>\n",
       "      <th>month</th>\n",
       "      <th>day</th>\n",
       "    </tr>\n",
       "  </thead>\n",
       "  <tbody>\n",
       "    <tr>\n",
       "      <th>time</th>\n",
       "      <td>1.000000</td>\n",
       "      <td>-0.270552</td>\n",
       "      <td>0.097456</td>\n",
       "      <td>0.490267</td>\n",
       "      <td>-0.183534</td>\n",
       "      <td>0.036793</td>\n",
       "      <td>0.024668</td>\n",
       "      <td>-0.008952</td>\n",
       "      <td>-0.201413</td>\n",
       "      <td>-0.082909</td>\n",
       "    </tr>\n",
       "    <tr>\n",
       "      <th>wrist</th>\n",
       "      <td>-0.270552</td>\n",
       "      <td>1.000000</td>\n",
       "      <td>-0.609688</td>\n",
       "      <td>0.087141</td>\n",
       "      <td>0.323648</td>\n",
       "      <td>-0.022092</td>\n",
       "      <td>-0.068446</td>\n",
       "      <td>0.008810</td>\n",
       "      <td>0.227086</td>\n",
       "      <td>0.437214</td>\n",
       "    </tr>\n",
       "    <tr>\n",
       "      <th>acceleration_x</th>\n",
       "      <td>0.097456</td>\n",
       "      <td>-0.609688</td>\n",
       "      <td>1.000000</td>\n",
       "      <td>-0.265214</td>\n",
       "      <td>-0.552286</td>\n",
       "      <td>-0.021857</td>\n",
       "      <td>-0.003699</td>\n",
       "      <td>-0.060568</td>\n",
       "      <td>-0.174344</td>\n",
       "      <td>-0.246044</td>\n",
       "    </tr>\n",
       "    <tr>\n",
       "      <th>acceleration_y</th>\n",
       "      <td>0.490267</td>\n",
       "      <td>0.087141</td>\n",
       "      <td>-0.265214</td>\n",
       "      <td>1.000000</td>\n",
       "      <td>0.106246</td>\n",
       "      <td>0.010513</td>\n",
       "      <td>0.072249</td>\n",
       "      <td>-0.023046</td>\n",
       "      <td>-0.026154</td>\n",
       "      <td>0.011223</td>\n",
       "    </tr>\n",
       "    <tr>\n",
       "      <th>acceleration_z</th>\n",
       "      <td>-0.183534</td>\n",
       "      <td>0.323648</td>\n",
       "      <td>-0.552286</td>\n",
       "      <td>0.106246</td>\n",
       "      <td>1.000000</td>\n",
       "      <td>0.034930</td>\n",
       "      <td>-0.020985</td>\n",
       "      <td>0.049554</td>\n",
       "      <td>0.048078</td>\n",
       "      <td>0.243738</td>\n",
       "    </tr>\n",
       "    <tr>\n",
       "      <th>gyro_x</th>\n",
       "      <td>0.036793</td>\n",
       "      <td>-0.022092</td>\n",
       "      <td>-0.021857</td>\n",
       "      <td>0.010513</td>\n",
       "      <td>0.034930</td>\n",
       "      <td>1.000000</td>\n",
       "      <td>0.093952</td>\n",
       "      <td>0.317810</td>\n",
       "      <td>-0.012304</td>\n",
       "      <td>-0.009496</td>\n",
       "    </tr>\n",
       "    <tr>\n",
       "      <th>gyro_y</th>\n",
       "      <td>0.024668</td>\n",
       "      <td>-0.068446</td>\n",
       "      <td>-0.003699</td>\n",
       "      <td>0.072249</td>\n",
       "      <td>-0.020985</td>\n",
       "      <td>0.093952</td>\n",
       "      <td>1.000000</td>\n",
       "      <td>0.287453</td>\n",
       "      <td>-0.017164</td>\n",
       "      <td>-0.032960</td>\n",
       "    </tr>\n",
       "    <tr>\n",
       "      <th>gyro_z</th>\n",
       "      <td>-0.008952</td>\n",
       "      <td>0.008810</td>\n",
       "      <td>-0.060568</td>\n",
       "      <td>-0.023046</td>\n",
       "      <td>0.049554</td>\n",
       "      <td>0.317810</td>\n",
       "      <td>0.287453</td>\n",
       "      <td>1.000000</td>\n",
       "      <td>0.003321</td>\n",
       "      <td>0.005717</td>\n",
       "    </tr>\n",
       "    <tr>\n",
       "      <th>month</th>\n",
       "      <td>-0.201413</td>\n",
       "      <td>0.227086</td>\n",
       "      <td>-0.174344</td>\n",
       "      <td>-0.026154</td>\n",
       "      <td>0.048078</td>\n",
       "      <td>-0.012304</td>\n",
       "      <td>-0.017164</td>\n",
       "      <td>0.003321</td>\n",
       "      <td>1.000000</td>\n",
       "      <td>-0.607614</td>\n",
       "    </tr>\n",
       "    <tr>\n",
       "      <th>day</th>\n",
       "      <td>-0.082909</td>\n",
       "      <td>0.437214</td>\n",
       "      <td>-0.246044</td>\n",
       "      <td>0.011223</td>\n",
       "      <td>0.243738</td>\n",
       "      <td>-0.009496</td>\n",
       "      <td>-0.032960</td>\n",
       "      <td>0.005717</td>\n",
       "      <td>-0.607614</td>\n",
       "      <td>1.000000</td>\n",
       "    </tr>\n",
       "  </tbody>\n",
       "</table>\n",
       "</div>"
      ],
      "text/plain": [
       "                    time     wrist  acceleration_x  acceleration_y  \\\n",
       "time            1.000000 -0.270552        0.097456        0.490267   \n",
       "wrist          -0.270552  1.000000       -0.609688        0.087141   \n",
       "acceleration_x  0.097456 -0.609688        1.000000       -0.265214   \n",
       "acceleration_y  0.490267  0.087141       -0.265214        1.000000   \n",
       "acceleration_z -0.183534  0.323648       -0.552286        0.106246   \n",
       "gyro_x          0.036793 -0.022092       -0.021857        0.010513   \n",
       "gyro_y          0.024668 -0.068446       -0.003699        0.072249   \n",
       "gyro_z         -0.008952  0.008810       -0.060568       -0.023046   \n",
       "month          -0.201413  0.227086       -0.174344       -0.026154   \n",
       "day            -0.082909  0.437214       -0.246044        0.011223   \n",
       "\n",
       "                acceleration_z    gyro_x    gyro_y    gyro_z     month  \\\n",
       "time                 -0.183534  0.036793  0.024668 -0.008952 -0.201413   \n",
       "wrist                 0.323648 -0.022092 -0.068446  0.008810  0.227086   \n",
       "acceleration_x       -0.552286 -0.021857 -0.003699 -0.060568 -0.174344   \n",
       "acceleration_y        0.106246  0.010513  0.072249 -0.023046 -0.026154   \n",
       "acceleration_z        1.000000  0.034930 -0.020985  0.049554  0.048078   \n",
       "gyro_x                0.034930  1.000000  0.093952  0.317810 -0.012304   \n",
       "gyro_y               -0.020985  0.093952  1.000000  0.287453 -0.017164   \n",
       "gyro_z                0.049554  0.317810  0.287453  1.000000  0.003321   \n",
       "month                 0.048078 -0.012304 -0.017164  0.003321  1.000000   \n",
       "day                   0.243738 -0.009496 -0.032960  0.005717 -0.607614   \n",
       "\n",
       "                     day  \n",
       "time           -0.082909  \n",
       "wrist           0.437214  \n",
       "acceleration_x -0.246044  \n",
       "acceleration_y  0.011223  \n",
       "acceleration_z  0.243738  \n",
       "gyro_x         -0.009496  \n",
       "gyro_y         -0.032960  \n",
       "gyro_z          0.005717  \n",
       "month          -0.607614  \n",
       "day             1.000000  "
      ]
     },
     "execution_count": 109,
     "metadata": {},
     "output_type": "execute_result"
    }
   ],
   "source": [
    "df.drop('activity',axis=1).corr()"
   ]
  },
  {
   "cell_type": "code",
   "execution_count": 112,
   "id": "4a197dd2",
   "metadata": {
    "scrolled": true
   },
   "outputs": [
    {
     "data": {
      "text/plain": [
       "<Axes: >"
      ]
     },
     "execution_count": 112,
     "metadata": {},
     "output_type": "execute_result"
    },
    {
     "data": {
      "image/png": "[encoded data removed]",
      "text/plain": [
       "<Figure size 640x480 with 2 Axes>"
      ]
     },
     "metadata": {},
     "output_type": "display_data"
    }
   ],
   "source": [
    "sns.heatmap(df.drop('activity',axis=1).corr(),annot=True)"
   ]
  },
  {
   "cell_type": "markdown",
   "id": "f8daaabe",
   "metadata": {},
   "source": [
    "## Model Creation"
   ]
  },
  {
   "cell_type": "code",
   "execution_count": 38,
   "id": "b162e616",
   "metadata": {
    "scrolled": true
   },
   "outputs": [
    {
     "data": {
      "text/plain": [
       "Index(['time', 'wrist', 'activity', 'acceleration_x', 'acceleration_y',\n",
       "       'acceleration_z', 'gyro_x', 'gyro_y', 'gyro_z', 'year', 'month', 'day'],\n",
       "      dtype='object')"
      ]
     },
     "execution_count": 38,
     "metadata": {},
     "output_type": "execute_result"
    }
   ],
   "source": [
    "df.columns"
   ]
  },
  {
   "cell_type": "code",
   "execution_count": 39,
   "id": "a7a58cce",
   "metadata": {},
   "outputs": [],
   "source": [
    "#splitting the data into x and y\n",
    "x=df.drop('activity',axis=1)\n",
    "y=df['activity']"
   ]
  },
  {
   "cell_type": "code",
   "execution_count": 40,
   "id": "bd23d784",
   "metadata": {},
   "outputs": [],
   "source": [
    "x_train,x_test,y_train,y_test=train_test_split(x,y,random_state=42)"
   ]
  },
  {
   "cell_type": "code",
   "execution_count": 41,
   "id": "9eadd4a9",
   "metadata": {
    "scrolled": true
   },
   "outputs": [
    {
     "name": "stdout",
     "output_type": "stream",
     "text": [
      "(66441, 11)\n",
      "(66441,)\n",
      "(22147, 11)\n",
      "(22147,)\n"
     ]
    }
   ],
   "source": [
    "print(x_train.shape)\n",
    "print(y_train.shape)\n",
    "print(x_test.shape)\n",
    "print(y_test.shape)"
   ]
  },
  {
   "cell_type": "markdown",
   "id": "a3bc233b",
   "metadata": {},
   "source": [
    "### BALANCING"
   ]
  },
  {
   "cell_type": "code",
   "execution_count": 42,
   "id": "e43db66b",
   "metadata": {
    "scrolled": true
   },
   "outputs": [
    {
     "data": {
      "text/plain": [
       "1    44365\n",
       "0    44223\n",
       "Name: activity, dtype: int64"
      ]
     },
     "execution_count": 42,
     "metadata": {},
     "output_type": "execute_result"
    }
   ],
   "source": [
    "df['activity'].value_counts()"
   ]
  },
  {
   "cell_type": "markdown",
   "id": "d22d7ddc",
   "metadata": {},
   "source": [
    "**Balancing is not required since the dataset is already evenly distributed, with 1 comprising 50.08% and 0 comprising 49.91%.**"
   ]
  },
  {
   "cell_type": "markdown",
   "id": "261e60bf",
   "metadata": {},
   "source": [
    "# Model Creation By Using Logistic_Regression"
   ]
  },
  {
   "cell_type": "code",
   "execution_count": 43,
   "id": "100b8352",
   "metadata": {},
   "outputs": [],
   "source": [
    "lr = LogisticRegression(multi_class='ovr')"
   ]
  },
  {
   "cell_type": "code",
   "execution_count": 44,
   "id": "4d5d9092",
   "metadata": {},
   "outputs": [
    {
     "data": {
      "text/html": [
       "<style>#sk-container-id-1 {color: black;background-color: white;}#sk-container-id-1 pre{padding: 0;}#sk-container-id-1 div.sk-toggleable {background-color: white;}#sk-container-id-1 label.sk-toggleable__label {cursor: pointer;display: block;width: 100%;margin-bottom: 0;padding: 0.3em;box-sizing: border-box;text-align: center;}#sk-container-id-1 label.sk-toggleable__label-arrow:before {content: \"▸\";float: left;margin-right: 0.25em;color: #696969;}#sk-container-id-1 label.sk-toggleable__label-arrow:hover:before {color: black;}#sk-container-id-1 div.sk-estimator:hover label.sk-toggleable__label-arrow:before {color: black;}#sk-container-id-1 div.sk-toggleable__content {max-height: 0;max-width: 0;overflow: hidden;text-align: left;background-color: #f0f8ff;}#sk-container-id-1 div.sk-toggleable__content pre {margin: 0.2em;color: black;border-radius: 0.25em;background-color: #f0f8ff;}#sk-container-id-1 input.sk-toggleable__control:checked~div.sk-toggleable__content {max-height: 200px;max-width: 100%;overflow: auto;}#sk-container-id-1 input.sk-toggleable__control:checked~label.sk-toggleable__label-arrow:before {content: \"▾\";}#sk-container-id-1 div.sk-estimator input.sk-toggleable__control:checked~label.sk-toggleable__label {background-color: #d4ebff;}#sk-container-id-1 div.sk-label input.sk-toggleable__control:checked~label.sk-toggleable__label {background-color: #d4ebff;}#sk-container-id-1 input.sk-hidden--visually {border: 0;clip: rect(1px 1px 1px 1px);clip: rect(1px, 1px, 1px, 1px);height: 1px;margin: -1px;overflow: hidden;padding: 0;position: absolute;width: 1px;}#sk-container-id-1 div.sk-estimator {font-family: monospace;background-color: #f0f8ff;border: 1px dotted black;border-radius: 0.25em;box-sizing: border-box;margin-bottom: 0.5em;}#sk-container-id-1 div.sk-estimator:hover {background-color: #d4ebff;}#sk-container-id-1 div.sk-parallel-item::after {content: \"\";width: 100%;border-bottom: 1px solid gray;flex-grow: 1;}#sk-container-id-1 div.sk-label:hover label.sk-toggleable__label {background-color: #d4ebff;}#sk-container-id-1 div.sk-serial::before {content: \"\";position: absolute;border-left: 1px solid gray;box-sizing: border-box;top: 0;bottom: 0;left: 50%;z-index: 0;}#sk-container-id-1 div.sk-serial {display: flex;flex-direction: column;align-items: center;background-color: white;padding-right: 0.2em;padding-left: 0.2em;position: relative;}#sk-container-id-1 div.sk-item {position: relative;z-index: 1;}#sk-container-id-1 div.sk-parallel {display: flex;align-items: stretch;justify-content: center;background-color: white;position: relative;}#sk-container-id-1 div.sk-item::before, #sk-container-id-1 div.sk-parallel-item::before {content: \"\";position: absolute;border-left: 1px solid gray;box-sizing: border-box;top: 0;bottom: 0;left: 50%;z-index: -1;}#sk-container-id-1 div.sk-parallel-item {display: flex;flex-direction: column;z-index: 1;position: relative;background-color: white;}#sk-container-id-1 div.sk-parallel-item:first-child::after {align-self: flex-end;width: 50%;}#sk-container-id-1 div.sk-parallel-item:last-child::after {align-self: flex-start;width: 50%;}#sk-container-id-1 div.sk-parallel-item:only-child::after {width: 0;}#sk-container-id-1 div.sk-dashed-wrapped {border: 1px dashed gray;margin: 0 0.4em 0.5em 0.4em;box-sizing: border-box;padding-bottom: 0.4em;background-color: white;}#sk-container-id-1 div.sk-label label {font-family: monospace;font-weight: bold;display: inline-block;line-height: 1.2em;}#sk-container-id-1 div.sk-label-container {text-align: center;}#sk-container-id-1 div.sk-container {/* jupyter's `normalize.less` sets `[hidden] { display: none; }` but bootstrap.min.css set `[hidden] { display: none !important; }` so we also need the `!important` here to be able to override the default hidden behavior on the sphinx rendered scikit-learn.org. See: https://github.com/scikit-learn/scikit-learn/issues/21755 */display: inline-block !important;position: relative;}#sk-container-id-1 div.sk-text-repr-fallback {display: none;}</style><div id=\"sk-container-id-1\" class=\"sk-top-container\"><div class=\"sk-text-repr-fallback\"><pre>LogisticRegression(multi_class=&#x27;ovr&#x27;)</pre><b>In a Jupyter environment, please rerun this cell to show the HTML representation or trust the notebook. <br />On GitHub, the HTML representation is unable to render, please try loading this page with nbviewer.org.</b></div><div class=\"sk-container\" hidden><div class=\"sk-item\"><div class=\"sk-estimator sk-toggleable\"><input class=\"sk-toggleable__control sk-hidden--visually\" id=\"sk-estimator-id-1\" type=\"checkbox\" checked><label for=\"sk-estimator-id-1\" class=\"sk-toggleable__label sk-toggleable__label-arrow\">LogisticRegression</label><div class=\"sk-toggleable__content\"><pre>LogisticRegression(multi_class=&#x27;ovr&#x27;)</pre></div></div></div></div></div>"
      ],
      "text/plain": [
       "LogisticRegression(multi_class='ovr')"
      ]
     },
     "execution_count": 44,
     "metadata": {},
     "output_type": "execute_result"
    }
   ],
   "source": [
    "lr.fit(x_train,y_train)"
   ]
  },
  {
   "cell_type": "code",
   "execution_count": 45,
   "id": "0cb17d48",
   "metadata": {},
   "outputs": [],
   "source": [
    "y_pred_lr = lr.predict(x_test)"
   ]
  },
  {
   "cell_type": "code",
   "execution_count": 46,
   "id": "7de70dae",
   "metadata": {},
   "outputs": [],
   "source": [
    "y_pred_lr_train = lr.predict(x_train)"
   ]
  },
  {
   "cell_type": "markdown",
   "id": "b796d67b",
   "metadata": {},
   "source": [
    "# Model Evaluation Logistic_Regression"
   ]
  },
  {
   "cell_type": "code",
   "execution_count": 47,
   "id": "53624217",
   "metadata": {},
   "outputs": [
    {
     "name": "stdout",
     "output_type": "stream",
     "text": [
      " accuracy_score for test data : 0.94685510452883\n"
     ]
    }
   ],
   "source": [
    "print(f\" accuracy_score for test data : {accuracy_score(y_test,y_pred_lr)}\")"
   ]
  },
  {
   "cell_type": "code",
   "execution_count": 48,
   "id": "0c3e4f76",
   "metadata": {},
   "outputs": [
    {
     "name": "stdout",
     "output_type": "stream",
     "text": [
      " accuracy_score for train data : 0.9455155702051444\n"
     ]
    }
   ],
   "source": [
    "print(f\" accuracy_score for train data : {accuracy_score(y_train,y_pred_lr_train)}\")"
   ]
  },
  {
   "cell_type": "code",
   "execution_count": 49,
   "id": "755199c4",
   "metadata": {},
   "outputs": [
    {
     "name": "stdout",
     "output_type": "stream",
     "text": [
      "precision_score for test data: 0.9475684934839089\n"
     ]
    }
   ],
   "source": [
    "print(\"precision_score for test data:\",precision_score(y_test,y_pred_lr,average='weighted'))"
   ]
  },
  {
   "cell_type": "code",
   "execution_count": 50,
   "id": "0338b018",
   "metadata": {},
   "outputs": [
    {
     "name": "stdout",
     "output_type": "stream",
     "text": [
      "recall_score for test data: 0.94685510452883\n"
     ]
    }
   ],
   "source": [
    "print(\"recall_score for test data:\",recall_score(y_test,y_pred_lr,average='weighted'))"
   ]
  },
  {
   "cell_type": "code",
   "execution_count": 51,
   "id": "32e56de3",
   "metadata": {
    "scrolled": false
   },
   "outputs": [
    {
     "name": "stdout",
     "output_type": "stream",
     "text": [
      "classification_report for test data :               precision    recall  f1-score   support\n",
      "\n",
      "           0       0.97      0.93      0.95     11162\n",
      "           1       0.93      0.97      0.95     10985\n",
      "\n",
      "    accuracy                           0.95     22147\n",
      "   macro avg       0.95      0.95      0.95     22147\n",
      "weighted avg       0.95      0.95      0.95     22147\n",
      "\n"
     ]
    }
   ],
   "source": [
    "print(f\"classification_report for test data : {classification_report(y_test,y_pred_lr)}\")"
   ]
  },
  {
   "cell_type": "code",
   "execution_count": 52,
   "id": "d8b29afa",
   "metadata": {
    "scrolled": false
   },
   "outputs": [
    {
     "name": "stdout",
     "output_type": "stream",
     "text": [
      "classification_report for train data :               precision    recall  f1-score   support\n",
      "\n",
      "           0       0.96      0.93      0.94     33061\n",
      "           1       0.93      0.96      0.95     33380\n",
      "\n",
      "    accuracy                           0.95     66441\n",
      "   macro avg       0.95      0.95      0.95     66441\n",
      "weighted avg       0.95      0.95      0.95     66441\n",
      "\n"
     ]
    }
   ],
   "source": [
    "print(f\"classification_report for train data : {classification_report(y_train,y_pred_lr_train)}\")"
   ]
  },
  {
   "cell_type": "markdown",
   "id": "26334c26",
   "metadata": {},
   "source": [
    "## Model Creation by using KNN-Classifier"
   ]
  },
  {
   "cell_type": "code",
   "execution_count": 53,
   "id": "d2515e1e",
   "metadata": {},
   "outputs": [
    {
     "name": "stdout",
     "output_type": "stream",
     "text": [
      "[0.3115546123628482, 0.4199214340542737, 0.3115546123628482, 0.3837991601571319, 0.37476859168284643, 0.4199214340542737, 0.40186029710570276, 0.46507427642570104, 0.4199214340542737, 0.4605589921885583]\n"
     ]
    }
   ],
   "source": [
    "# Running the model with different nearest neighbours number to check which will gives us least error rate\n",
    "err_rate = []\n",
    "for i in range(1,11):\n",
    "    knn1 = KNeighborsClassifier(n_neighbors= i)\n",
    "    knn1.fit(x_train,y_train)\n",
    "    y_pred1 = knn1.predict(x_test)\n",
    "    error_rate = (y_test !=y_pred1).sum()/len(y_test) * 100\n",
    "    err_rate.append(error_rate)\n",
    "print(err_rate)"
   ]
  },
  {
   "cell_type": "code",
   "execution_count": 54,
   "id": "fb7d2871",
   "metadata": {},
   "outputs": [
    {
     "data": {
      "image/png": "[encoded data removed]",
      "text/plain": [
       "<Figure size 640x480 with 1 Axes>"
      ]
     },
     "metadata": {},
     "output_type": "display_data"
    }
   ],
   "source": [
    "# plotting to check the nearest neighbours with least error rate\n",
    "plt.plot(range(1,11),err_rate)\n",
    "plt.show()"
   ]
  },
  {
   "cell_type": "code",
   "execution_count": 55,
   "id": "27f80ecf",
   "metadata": {},
   "outputs": [],
   "source": [
    "knn = KNeighborsClassifier(5)"
   ]
  },
  {
   "cell_type": "code",
   "execution_count": 56,
   "id": "d2329bef",
   "metadata": {},
   "outputs": [
    {
     "data": {
      "text/html": [
       "<style>#sk-container-id-2 {color: black;background-color: white;}#sk-container-id-2 pre{padding: 0;}#sk-container-id-2 div.sk-toggleable {background-color: white;}#sk-container-id-2 label.sk-toggleable__label {cursor: pointer;display: block;width: 100%;margin-bottom: 0;padding: 0.3em;box-sizing: border-box;text-align: center;}#sk-container-id-2 label.sk-toggleable__label-arrow:before {content: \"▸\";float: left;margin-right: 0.25em;color: #696969;}#sk-container-id-2 label.sk-toggleable__label-arrow:hover:before {color: black;}#sk-container-id-2 div.sk-estimator:hover label.sk-toggleable__label-arrow:before {color: black;}#sk-container-id-2 div.sk-toggleable__content {max-height: 0;max-width: 0;overflow: hidden;text-align: left;background-color: #f0f8ff;}#sk-container-id-2 div.sk-toggleable__content pre {margin: 0.2em;color: black;border-radius: 0.25em;background-color: #f0f8ff;}#sk-container-id-2 input.sk-toggleable__control:checked~div.sk-toggleable__content {max-height: 200px;max-width: 100%;overflow: auto;}#sk-container-id-2 input.sk-toggleable__control:checked~label.sk-toggleable__label-arrow:before {content: \"▾\";}#sk-container-id-2 div.sk-estimator input.sk-toggleable__control:checked~label.sk-toggleable__label {background-color: #d4ebff;}#sk-container-id-2 div.sk-label input.sk-toggleable__control:checked~label.sk-toggleable__label {background-color: #d4ebff;}#sk-container-id-2 input.sk-hidden--visually {border: 0;clip: rect(1px 1px 1px 1px);clip: rect(1px, 1px, 1px, 1px);height: 1px;margin: -1px;overflow: hidden;padding: 0;position: absolute;width: 1px;}#sk-container-id-2 div.sk-estimator {font-family: monospace;background-color: #f0f8ff;border: 1px dotted black;border-radius: 0.25em;box-sizing: border-box;margin-bottom: 0.5em;}#sk-container-id-2 div.sk-estimator:hover {background-color: #d4ebff;}#sk-container-id-2 div.sk-parallel-item::after {content: \"\";width: 100%;border-bottom: 1px solid gray;flex-grow: 1;}#sk-container-id-2 div.sk-label:hover label.sk-toggleable__label {background-color: #d4ebff;}#sk-container-id-2 div.sk-serial::before {content: \"\";position: absolute;border-left: 1px solid gray;box-sizing: border-box;top: 0;bottom: 0;left: 50%;z-index: 0;}#sk-container-id-2 div.sk-serial {display: flex;flex-direction: column;align-items: center;background-color: white;padding-right: 0.2em;padding-left: 0.2em;position: relative;}#sk-container-id-2 div.sk-item {position: relative;z-index: 1;}#sk-container-id-2 div.sk-parallel {display: flex;align-items: stretch;justify-content: center;background-color: white;position: relative;}#sk-container-id-2 div.sk-item::before, #sk-container-id-2 div.sk-parallel-item::before {content: \"\";position: absolute;border-left: 1px solid gray;box-sizing: border-box;top: 0;bottom: 0;left: 50%;z-index: -1;}#sk-container-id-2 div.sk-parallel-item {display: flex;flex-direction: column;z-index: 1;position: relative;background-color: white;}#sk-container-id-2 div.sk-parallel-item:first-child::after {align-self: flex-end;width: 50%;}#sk-container-id-2 div.sk-parallel-item:last-child::after {align-self: flex-start;width: 50%;}#sk-container-id-2 div.sk-parallel-item:only-child::after {width: 0;}#sk-container-id-2 div.sk-dashed-wrapped {border: 1px dashed gray;margin: 0 0.4em 0.5em 0.4em;box-sizing: border-box;padding-bottom: 0.4em;background-color: white;}#sk-container-id-2 div.sk-label label {font-family: monospace;font-weight: bold;display: inline-block;line-height: 1.2em;}#sk-container-id-2 div.sk-label-container {text-align: center;}#sk-container-id-2 div.sk-container {/* jupyter's `normalize.less` sets `[hidden] { display: none; }` but bootstrap.min.css set `[hidden] { display: none !important; }` so we also need the `!important` here to be able to override the default hidden behavior on the sphinx rendered scikit-learn.org. See: https://github.com/scikit-learn/scikit-learn/issues/21755 */display: inline-block !important;position: relative;}#sk-container-id-2 div.sk-text-repr-fallback {display: none;}</style><div id=\"sk-container-id-2\" class=\"sk-top-container\"><div class=\"sk-text-repr-fallback\"><pre>KNeighborsClassifier()</pre><b>In a Jupyter environment, please rerun this cell to show the HTML representation or trust the notebook. <br />On GitHub, the HTML representation is unable to render, please try loading this page with nbviewer.org.</b></div><div class=\"sk-container\" hidden><div class=\"sk-item\"><div class=\"sk-estimator sk-toggleable\"><input class=\"sk-toggleable__control sk-hidden--visually\" id=\"sk-estimator-id-2\" type=\"checkbox\" checked><label for=\"sk-estimator-id-2\" class=\"sk-toggleable__label sk-toggleable__label-arrow\">KNeighborsClassifier</label><div class=\"sk-toggleable__content\"><pre>KNeighborsClassifier()</pre></div></div></div></div></div>"
      ],
      "text/plain": [
       "KNeighborsClassifier()"
      ]
     },
     "execution_count": 56,
     "metadata": {},
     "output_type": "execute_result"
    }
   ],
   "source": [
    "knn.fit(x_train,y_train)"
   ]
  },
  {
   "cell_type": "code",
   "execution_count": 57,
   "id": "6657b4a5",
   "metadata": {},
   "outputs": [],
   "source": [
    "y_pred_knn = knn.predict(x_test)"
   ]
  },
  {
   "cell_type": "code",
   "execution_count": 58,
   "id": "ff0a41ea",
   "metadata": {},
   "outputs": [],
   "source": [
    "y_pred_knn_train = knn.predict(x_train)"
   ]
  },
  {
   "cell_type": "markdown",
   "id": "31b33924",
   "metadata": {},
   "source": [
    "# Model Evaluation KNN - Classifier"
   ]
  },
  {
   "cell_type": "code",
   "execution_count": 59,
   "id": "fba92a30",
   "metadata": {},
   "outputs": [
    {
     "name": "stdout",
     "output_type": "stream",
     "text": [
      " accuracy_score for test data : 0.9962523140831715\n",
      " accuracy_score for train data : 0.9979982239882\n"
     ]
    }
   ],
   "source": [
    "print(f\" accuracy_score for test data : {accuracy_score(y_test,y_pred_knn)}\")\n",
    "print(f\" accuracy_score for train data : {accuracy_score(y_train,y_pred_knn_train)}\")"
   ]
  },
  {
   "cell_type": "code",
   "execution_count": 60,
   "id": "bd7041e2",
   "metadata": {
    "scrolled": true
   },
   "outputs": [
    {
     "name": "stdout",
     "output_type": "stream",
     "text": [
      "classification_report for test data :               precision    recall  f1-score   support\n",
      "\n",
      "           0       0.99      1.00      1.00     11162\n",
      "           1       1.00      0.99      1.00     10985\n",
      "\n",
      "    accuracy                           1.00     22147\n",
      "   macro avg       1.00      1.00      1.00     22147\n",
      "weighted avg       1.00      1.00      1.00     22147\n",
      "\n",
      "classification_report for train data :               precision    recall  f1-score   support\n",
      "\n",
      "           0       1.00      1.00      1.00     33061\n",
      "           1       1.00      1.00      1.00     33380\n",
      "\n",
      "    accuracy                           1.00     66441\n",
      "   macro avg       1.00      1.00      1.00     66441\n",
      "weighted avg       1.00      1.00      1.00     66441\n",
      "\n"
     ]
    }
   ],
   "source": [
    "print(f\"classification_report for test data : {classification_report(y_test,y_pred_knn)}\")\n",
    "print(f\"classification_report for train data : {classification_report(y_train,y_pred_knn_train)}\")"
   ]
  },
  {
   "cell_type": "code",
   "execution_count": 61,
   "id": "5e872661",
   "metadata": {
    "scrolled": true
   },
   "outputs": [
    {
     "name": "stdout",
     "output_type": "stream",
     "text": [
      "precision_score for test data: 0.9962590071008431\n"
     ]
    }
   ],
   "source": [
    "print(\"precision_score for test data:\",precision_score(y_test,y_pred_knn,average='weighted'))"
   ]
  },
  {
   "cell_type": "code",
   "execution_count": 62,
   "id": "84e85a9c",
   "metadata": {},
   "outputs": [
    {
     "name": "stdout",
     "output_type": "stream",
     "text": [
      "recall_score for test data: 0.9962523140831715\n"
     ]
    }
   ],
   "source": [
    "print(\"recall_score for test data:\",recall_score(y_test,y_pred_knn,average='weighted'))"
   ]
  },
  {
   "cell_type": "markdown",
   "id": "862783f1",
   "metadata": {},
   "source": [
    "## Hyperparameter Tuning - KNN"
   ]
  },
  {
   "cell_type": "code",
   "execution_count": 63,
   "id": "a60d7c1d",
   "metadata": {
    "scrolled": true
   },
   "outputs": [],
   "source": [
    "param_grid = {\n",
    "    'n_neighbors': [3, 5, 7, 9],\n",
    "    'weights': ['uniform', 'distance'],\n",
    "    'p': [1, 2]  \n",
    "}"
   ]
  },
  {
   "cell_type": "code",
   "execution_count": 64,
   "id": "0fc13b50",
   "metadata": {},
   "outputs": [
    {
     "data": {
      "text/html": [
       "<style>#sk-container-id-3 {color: black;background-color: white;}#sk-container-id-3 pre{padding: 0;}#sk-container-id-3 div.sk-toggleable {background-color: white;}#sk-container-id-3 label.sk-toggleable__label {cursor: pointer;display: block;width: 100%;margin-bottom: 0;padding: 0.3em;box-sizing: border-box;text-align: center;}#sk-container-id-3 label.sk-toggleable__label-arrow:before {content: \"▸\";float: left;margin-right: 0.25em;color: #696969;}#sk-container-id-3 label.sk-toggleable__label-arrow:hover:before {color: black;}#sk-container-id-3 div.sk-estimator:hover label.sk-toggleable__label-arrow:before {color: black;}#sk-container-id-3 div.sk-toggleable__content {max-height: 0;max-width: 0;overflow: hidden;text-align: left;background-color: #f0f8ff;}#sk-container-id-3 div.sk-toggleable__content pre {margin: 0.2em;color: black;border-radius: 0.25em;background-color: #f0f8ff;}#sk-container-id-3 input.sk-toggleable__control:checked~div.sk-toggleable__content {max-height: 200px;max-width: 100%;overflow: auto;}#sk-container-id-3 input.sk-toggleable__control:checked~label.sk-toggleable__label-arrow:before {content: \"▾\";}#sk-container-id-3 div.sk-estimator input.sk-toggleable__control:checked~label.sk-toggleable__label {background-color: #d4ebff;}#sk-container-id-3 div.sk-label input.sk-toggleable__control:checked~label.sk-toggleable__label {background-color: #d4ebff;}#sk-container-id-3 input.sk-hidden--visually {border: 0;clip: rect(1px 1px 1px 1px);clip: rect(1px, 1px, 1px, 1px);height: 1px;margin: -1px;overflow: hidden;padding: 0;position: absolute;width: 1px;}#sk-container-id-3 div.sk-estimator {font-family: monospace;background-color: #f0f8ff;border: 1px dotted black;border-radius: 0.25em;box-sizing: border-box;margin-bottom: 0.5em;}#sk-container-id-3 div.sk-estimator:hover {background-color: #d4ebff;}#sk-container-id-3 div.sk-parallel-item::after {content: \"\";width: 100%;border-bottom: 1px solid gray;flex-grow: 1;}#sk-container-id-3 div.sk-label:hover label.sk-toggleable__label {background-color: #d4ebff;}#sk-container-id-3 div.sk-serial::before {content: \"\";position: absolute;border-left: 1px solid gray;box-sizing: border-box;top: 0;bottom: 0;left: 50%;z-index: 0;}#sk-container-id-3 div.sk-serial {display: flex;flex-direction: column;align-items: center;background-color: white;padding-right: 0.2em;padding-left: 0.2em;position: relative;}#sk-container-id-3 div.sk-item {position: relative;z-index: 1;}#sk-container-id-3 div.sk-parallel {display: flex;align-items: stretch;justify-content: center;background-color: white;position: relative;}#sk-container-id-3 div.sk-item::before, #sk-container-id-3 div.sk-parallel-item::before {content: \"\";position: absolute;border-left: 1px solid gray;box-sizing: border-box;top: 0;bottom: 0;left: 50%;z-index: -1;}#sk-container-id-3 div.sk-parallel-item {display: flex;flex-direction: column;z-index: 1;position: relative;background-color: white;}#sk-container-id-3 div.sk-parallel-item:first-child::after {align-self: flex-end;width: 50%;}#sk-container-id-3 div.sk-parallel-item:last-child::after {align-self: flex-start;width: 50%;}#sk-container-id-3 div.sk-parallel-item:only-child::after {width: 0;}#sk-container-id-3 div.sk-dashed-wrapped {border: 1px dashed gray;margin: 0 0.4em 0.5em 0.4em;box-sizing: border-box;padding-bottom: 0.4em;background-color: white;}#sk-container-id-3 div.sk-label label {font-family: monospace;font-weight: bold;display: inline-block;line-height: 1.2em;}#sk-container-id-3 div.sk-label-container {text-align: center;}#sk-container-id-3 div.sk-container {/* jupyter's `normalize.less` sets `[hidden] { display: none; }` but bootstrap.min.css set `[hidden] { display: none !important; }` so we also need the `!important` here to be able to override the default hidden behavior on the sphinx rendered scikit-learn.org. See: https://github.com/scikit-learn/scikit-learn/issues/21755 */display: inline-block !important;position: relative;}#sk-container-id-3 div.sk-text-repr-fallback {display: none;}</style><div id=\"sk-container-id-3\" class=\"sk-top-container\"><div class=\"sk-text-repr-fallback\"><pre>GridSearchCV(cv=5, estimator=KNeighborsClassifier(),\n",
       "             param_grid={&#x27;n_neighbors&#x27;: [3, 5, 7, 9], &#x27;p&#x27;: [1, 2],\n",
       "                         &#x27;weights&#x27;: [&#x27;uniform&#x27;, &#x27;distance&#x27;]},\n",
       "             scoring=&#x27;accuracy&#x27;)</pre><b>In a Jupyter environment, please rerun this cell to show the HTML representation or trust the notebook. <br />On GitHub, the HTML representation is unable to render, please try loading this page with nbviewer.org.</b></div><div class=\"sk-container\" hidden><div class=\"sk-item sk-dashed-wrapped\"><div class=\"sk-label-container\"><div class=\"sk-label sk-toggleable\"><input class=\"sk-toggleable__control sk-hidden--visually\" id=\"sk-estimator-id-3\" type=\"checkbox\" ><label for=\"sk-estimator-id-3\" class=\"sk-toggleable__label sk-toggleable__label-arrow\">GridSearchCV</label><div class=\"sk-toggleable__content\"><pre>GridSearchCV(cv=5, estimator=KNeighborsClassifier(),\n",
       "             param_grid={&#x27;n_neighbors&#x27;: [3, 5, 7, 9], &#x27;p&#x27;: [1, 2],\n",
       "                         &#x27;weights&#x27;: [&#x27;uniform&#x27;, &#x27;distance&#x27;]},\n",
       "             scoring=&#x27;accuracy&#x27;)</pre></div></div></div><div class=\"sk-parallel\"><div class=\"sk-parallel-item\"><div class=\"sk-item\"><div class=\"sk-label-container\"><div class=\"sk-label sk-toggleable\"><input class=\"sk-toggleable__control sk-hidden--visually\" id=\"sk-estimator-id-4\" type=\"checkbox\" ><label for=\"sk-estimator-id-4\" class=\"sk-toggleable__label sk-toggleable__label-arrow\">estimator: KNeighborsClassifier</label><div class=\"sk-toggleable__content\"><pre>KNeighborsClassifier()</pre></div></div></div><div class=\"sk-serial\"><div class=\"sk-item\"><div class=\"sk-estimator sk-toggleable\"><input class=\"sk-toggleable__control sk-hidden--visually\" id=\"sk-estimator-id-5\" type=\"checkbox\" ><label for=\"sk-estimator-id-5\" class=\"sk-toggleable__label sk-toggleable__label-arrow\">KNeighborsClassifier</label><div class=\"sk-toggleable__content\"><pre>KNeighborsClassifier()</pre></div></div></div></div></div></div></div></div></div></div>"
      ],
      "text/plain": [
       "GridSearchCV(cv=5, estimator=KNeighborsClassifier(),\n",
       "             param_grid={'n_neighbors': [3, 5, 7, 9], 'p': [1, 2],\n",
       "                         'weights': ['uniform', 'distance']},\n",
       "             scoring='accuracy')"
      ]
     },
     "execution_count": 64,
     "metadata": {},
     "output_type": "execute_result"
    }
   ],
   "source": [
    "grid_search = GridSearchCV(knn, param_grid, cv=5, scoring='accuracy')\n",
    "grid_search.fit(x_train, y_train)\n"
   ]
  },
  {
   "cell_type": "code",
   "execution_count": 65,
   "id": "fbbdb030",
   "metadata": {
    "scrolled": true
   },
   "outputs": [
    {
     "data": {
      "text/plain": [
       "{'n_neighbors': 3, 'p': 1, 'weights': 'distance'}"
      ]
     },
     "execution_count": 65,
     "metadata": {},
     "output_type": "execute_result"
    }
   ],
   "source": [
    "grid_search.best_params_"
   ]
  },
  {
   "cell_type": "code",
   "execution_count": 66,
   "id": "fdf7bb14",
   "metadata": {},
   "outputs": [],
   "source": [
    "best_knn_model = grid_search.best_estimator_"
   ]
  },
  {
   "cell_type": "code",
   "execution_count": 67,
   "id": "12684cd5",
   "metadata": {},
   "outputs": [],
   "source": [
    "knn_pred = best_knn_model.predict(x_test)"
   ]
  },
  {
   "cell_type": "code",
   "execution_count": 68,
   "id": "fbb80596",
   "metadata": {},
   "outputs": [
    {
     "name": "stdout",
     "output_type": "stream",
     "text": [
      "Accuracy of the Best Model: 0.9975165936695715\n"
     ]
    }
   ],
   "source": [
    "accuracy = accuracy_score(y_test, knn_pred)\n",
    "print(\"Accuracy of the Best Model:\", accuracy)"
   ]
  },
  {
   "cell_type": "code",
   "execution_count": 69,
   "id": "f081cd82",
   "metadata": {
    "scrolled": true
   },
   "outputs": [
    {
     "name": "stdout",
     "output_type": "stream",
     "text": [
      "precision_score for test data: 0.9975204376255311\n"
     ]
    }
   ],
   "source": [
    "print(\"precision_score for test data:\",precision_score(y_test, knn_pred,average='weighted'))"
   ]
  },
  {
   "cell_type": "code",
   "execution_count": 70,
   "id": "8f151a9c",
   "metadata": {},
   "outputs": [
    {
     "name": "stdout",
     "output_type": "stream",
     "text": [
      "recall_score for test data: 0.9975165936695715\n"
     ]
    }
   ],
   "source": [
    "print(\"recall_score for test data:\",recall_score(y_test, knn_pred,average='weighted'))"
   ]
  },
  {
   "cell_type": "markdown",
   "id": "1b8d53d8",
   "metadata": {},
   "source": [
    "# Model creation by using SVM-Classifier"
   ]
  },
  {
   "cell_type": "code",
   "execution_count": 71,
   "id": "19560fd1",
   "metadata": {},
   "outputs": [],
   "source": [
    "svc = SVC()"
   ]
  },
  {
   "cell_type": "code",
   "execution_count": 72,
   "id": "e38f9159",
   "metadata": {},
   "outputs": [
    {
     "data": {
      "text/html": [
       "<style>#sk-container-id-4 {color: black;background-color: white;}#sk-container-id-4 pre{padding: 0;}#sk-container-id-4 div.sk-toggleable {background-color: white;}#sk-container-id-4 label.sk-toggleable__label {cursor: pointer;display: block;width: 100%;margin-bottom: 0;padding: 0.3em;box-sizing: border-box;text-align: center;}#sk-container-id-4 label.sk-toggleable__label-arrow:before {content: \"▸\";float: left;margin-right: 0.25em;color: #696969;}#sk-container-id-4 label.sk-toggleable__label-arrow:hover:before {color: black;}#sk-container-id-4 div.sk-estimator:hover label.sk-toggleable__label-arrow:before {color: black;}#sk-container-id-4 div.sk-toggleable__content {max-height: 0;max-width: 0;overflow: hidden;text-align: left;background-color: #f0f8ff;}#sk-container-id-4 div.sk-toggleable__content pre {margin: 0.2em;color: black;border-radius: 0.25em;background-color: #f0f8ff;}#sk-container-id-4 input.sk-toggleable__control:checked~div.sk-toggleable__content {max-height: 200px;max-width: 100%;overflow: auto;}#sk-container-id-4 input.sk-toggleable__control:checked~label.sk-toggleable__label-arrow:before {content: \"▾\";}#sk-container-id-4 div.sk-estimator input.sk-toggleable__control:checked~label.sk-toggleable__label {background-color: #d4ebff;}#sk-container-id-4 div.sk-label input.sk-toggleable__control:checked~label.sk-toggleable__label {background-color: #d4ebff;}#sk-container-id-4 input.sk-hidden--visually {border: 0;clip: rect(1px 1px 1px 1px);clip: rect(1px, 1px, 1px, 1px);height: 1px;margin: -1px;overflow: hidden;padding: 0;position: absolute;width: 1px;}#sk-container-id-4 div.sk-estimator {font-family: monospace;background-color: #f0f8ff;border: 1px dotted black;border-radius: 0.25em;box-sizing: border-box;margin-bottom: 0.5em;}#sk-container-id-4 div.sk-estimator:hover {background-color: #d4ebff;}#sk-container-id-4 div.sk-parallel-item::after {content: \"\";width: 100%;border-bottom: 1px solid gray;flex-grow: 1;}#sk-container-id-4 div.sk-label:hover label.sk-toggleable__label {background-color: #d4ebff;}#sk-container-id-4 div.sk-serial::before {content: \"\";position: absolute;border-left: 1px solid gray;box-sizing: border-box;top: 0;bottom: 0;left: 50%;z-index: 0;}#sk-container-id-4 div.sk-serial {display: flex;flex-direction: column;align-items: center;background-color: white;padding-right: 0.2em;padding-left: 0.2em;position: relative;}#sk-container-id-4 div.sk-item {position: relative;z-index: 1;}#sk-container-id-4 div.sk-parallel {display: flex;align-items: stretch;justify-content: center;background-color: white;position: relative;}#sk-container-id-4 div.sk-item::before, #sk-container-id-4 div.sk-parallel-item::before {content: \"\";position: absolute;border-left: 1px solid gray;box-sizing: border-box;top: 0;bottom: 0;left: 50%;z-index: -1;}#sk-container-id-4 div.sk-parallel-item {display: flex;flex-direction: column;z-index: 1;position: relative;background-color: white;}#sk-container-id-4 div.sk-parallel-item:first-child::after {align-self: flex-end;width: 50%;}#sk-container-id-4 div.sk-parallel-item:last-child::after {align-self: flex-start;width: 50%;}#sk-container-id-4 div.sk-parallel-item:only-child::after {width: 0;}#sk-container-id-4 div.sk-dashed-wrapped {border: 1px dashed gray;margin: 0 0.4em 0.5em 0.4em;box-sizing: border-box;padding-bottom: 0.4em;background-color: white;}#sk-container-id-4 div.sk-label label {font-family: monospace;font-weight: bold;display: inline-block;line-height: 1.2em;}#sk-container-id-4 div.sk-label-container {text-align: center;}#sk-container-id-4 div.sk-container {/* jupyter's `normalize.less` sets `[hidden] { display: none; }` but bootstrap.min.css set `[hidden] { display: none !important; }` so we also need the `!important` here to be able to override the default hidden behavior on the sphinx rendered scikit-learn.org. See: https://github.com/scikit-learn/scikit-learn/issues/21755 */display: inline-block !important;position: relative;}#sk-container-id-4 div.sk-text-repr-fallback {display: none;}</style><div id=\"sk-container-id-4\" class=\"sk-top-container\"><div class=\"sk-text-repr-fallback\"><pre>SVC()</pre><b>In a Jupyter environment, please rerun this cell to show the HTML representation or trust the notebook. <br />On GitHub, the HTML representation is unable to render, please try loading this page with nbviewer.org.</b></div><div class=\"sk-container\" hidden><div class=\"sk-item\"><div class=\"sk-estimator sk-toggleable\"><input class=\"sk-toggleable__control sk-hidden--visually\" id=\"sk-estimator-id-6\" type=\"checkbox\" checked><label for=\"sk-estimator-id-6\" class=\"sk-toggleable__label sk-toggleable__label-arrow\">SVC</label><div class=\"sk-toggleable__content\"><pre>SVC()</pre></div></div></div></div></div>"
      ],
      "text/plain": [
       "SVC()"
      ]
     },
     "execution_count": 72,
     "metadata": {},
     "output_type": "execute_result"
    }
   ],
   "source": [
    "svc.fit(x_train,y_train)"
   ]
  },
  {
   "cell_type": "code",
   "execution_count": 73,
   "id": "ab1d872a",
   "metadata": {},
   "outputs": [],
   "source": [
    "y_pred_svc = svc.predict(x_test)"
   ]
  },
  {
   "cell_type": "code",
   "execution_count": 74,
   "id": "3f3c0c67",
   "metadata": {},
   "outputs": [],
   "source": [
    "y_pred_svc_train = svc.predict(x_train)"
   ]
  },
  {
   "cell_type": "markdown",
   "id": "d8544c98",
   "metadata": {},
   "source": [
    "# Model Evaluation SVM - Classifier"
   ]
  },
  {
   "cell_type": "code",
   "execution_count": 75,
   "id": "700635ac",
   "metadata": {},
   "outputs": [
    {
     "name": "stdout",
     "output_type": "stream",
     "text": [
      " accuracy_score for test data : 0.5048539305549284\n",
      " accuracy_score for train data : 0.5108141057479568\n"
     ]
    }
   ],
   "source": [
    "print(f\" accuracy_score for test data : {accuracy_score(y_test,y_pred_svc)}\")\n",
    "print(f\" accuracy_score for train data : {accuracy_score(y_train,y_pred_svc_train)}\")"
   ]
  },
  {
   "cell_type": "code",
   "execution_count": 76,
   "id": "38824d3f",
   "metadata": {},
   "outputs": [
    {
     "name": "stdout",
     "output_type": "stream",
     "text": [
      "precision_score for test data: 0.7522126749189508\n"
     ]
    }
   ],
   "source": [
    "print(\"precision_score for test data:\",precision_score(y_test,y_pred_svc,average='weighted'))"
   ]
  },
  {
   "cell_type": "code",
   "execution_count": 77,
   "id": "184a05e1",
   "metadata": {
    "scrolled": true
   },
   "outputs": [
    {
     "name": "stdout",
     "output_type": "stream",
     "text": [
      "recall_score for test data: 0.5048539305549284\n"
     ]
    }
   ],
   "source": [
    "print(\"recall_score for test data:\",recall_score(y_test,y_pred_svc,average='weighted'))"
   ]
  },
  {
   "cell_type": "code",
   "execution_count": 78,
   "id": "f425460e",
   "metadata": {
    "scrolled": true
   },
   "outputs": [
    {
     "name": "stdout",
     "output_type": "stream",
     "text": [
      "classification_report for test data :               precision    recall  f1-score   support\n",
      "\n",
      "           0       1.00      0.02      0.03     11162\n",
      "           1       0.50      1.00      0.67     10985\n",
      "\n",
      "    accuracy                           0.50     22147\n",
      "   macro avg       0.75      0.51      0.35     22147\n",
      "weighted avg       0.75      0.50      0.35     22147\n",
      "\n",
      "classification_report for train data :               precision    recall  f1-score   support\n",
      "\n",
      "           0       1.00      0.02      0.03     33061\n",
      "           1       0.51      1.00      0.67     33380\n",
      "\n",
      "    accuracy                           0.51     66441\n",
      "   macro avg       0.75      0.51      0.35     66441\n",
      "weighted avg       0.75      0.51      0.35     66441\n",
      "\n"
     ]
    }
   ],
   "source": [
    "print(f\"classification_report for test data : {classification_report(y_test,y_pred_svc)}\")\n",
    "print(f\"classification_report for train data : {classification_report(y_train,y_pred_svc_train)}\")"
   ]
  },
  {
   "cell_type": "markdown",
   "id": "1044859b",
   "metadata": {},
   "source": [
    "# Model Creation By Using Decision Tree Classifier"
   ]
  },
  {
   "cell_type": "code",
   "execution_count": 79,
   "id": "28c80e61",
   "metadata": {},
   "outputs": [],
   "source": [
    "dtc = DecisionTreeClassifier()"
   ]
  },
  {
   "cell_type": "code",
   "execution_count": 80,
   "id": "41b8cb7a",
   "metadata": {},
   "outputs": [
    {
     "data": {
      "text/html": [
       "<style>#sk-container-id-5 {color: black;background-color: white;}#sk-container-id-5 pre{padding: 0;}#sk-container-id-5 div.sk-toggleable {background-color: white;}#sk-container-id-5 label.sk-toggleable__label {cursor: pointer;display: block;width: 100%;margin-bottom: 0;padding: 0.3em;box-sizing: border-box;text-align: center;}#sk-container-id-5 label.sk-toggleable__label-arrow:before {content: \"▸\";float: left;margin-right: 0.25em;color: #696969;}#sk-container-id-5 label.sk-toggleable__label-arrow:hover:before {color: black;}#sk-container-id-5 div.sk-estimator:hover label.sk-toggleable__label-arrow:before {color: black;}#sk-container-id-5 div.sk-toggleable__content {max-height: 0;max-width: 0;overflow: hidden;text-align: left;background-color: #f0f8ff;}#sk-container-id-5 div.sk-toggleable__content pre {margin: 0.2em;color: black;border-radius: 0.25em;background-color: #f0f8ff;}#sk-container-id-5 input.sk-toggleable__control:checked~div.sk-toggleable__content {max-height: 200px;max-width: 100%;overflow: auto;}#sk-container-id-5 input.sk-toggleable__control:checked~label.sk-toggleable__label-arrow:before {content: \"▾\";}#sk-container-id-5 div.sk-estimator input.sk-toggleable__control:checked~label.sk-toggleable__label {background-color: #d4ebff;}#sk-container-id-5 div.sk-label input.sk-toggleable__control:checked~label.sk-toggleable__label {background-color: #d4ebff;}#sk-container-id-5 input.sk-hidden--visually {border: 0;clip: rect(1px 1px 1px 1px);clip: rect(1px, 1px, 1px, 1px);height: 1px;margin: -1px;overflow: hidden;padding: 0;position: absolute;width: 1px;}#sk-container-id-5 div.sk-estimator {font-family: monospace;background-color: #f0f8ff;border: 1px dotted black;border-radius: 0.25em;box-sizing: border-box;margin-bottom: 0.5em;}#sk-container-id-5 div.sk-estimator:hover {background-color: #d4ebff;}#sk-container-id-5 div.sk-parallel-item::after {content: \"\";width: 100%;border-bottom: 1px solid gray;flex-grow: 1;}#sk-container-id-5 div.sk-label:hover label.sk-toggleable__label {background-color: #d4ebff;}#sk-container-id-5 div.sk-serial::before {content: \"\";position: absolute;border-left: 1px solid gray;box-sizing: border-box;top: 0;bottom: 0;left: 50%;z-index: 0;}#sk-container-id-5 div.sk-serial {display: flex;flex-direction: column;align-items: center;background-color: white;padding-right: 0.2em;padding-left: 0.2em;position: relative;}#sk-container-id-5 div.sk-item {position: relative;z-index: 1;}#sk-container-id-5 div.sk-parallel {display: flex;align-items: stretch;justify-content: center;background-color: white;position: relative;}#sk-container-id-5 div.sk-item::before, #sk-container-id-5 div.sk-parallel-item::before {content: \"\";position: absolute;border-left: 1px solid gray;box-sizing: border-box;top: 0;bottom: 0;left: 50%;z-index: -1;}#sk-container-id-5 div.sk-parallel-item {display: flex;flex-direction: column;z-index: 1;position: relative;background-color: white;}#sk-container-id-5 div.sk-parallel-item:first-child::after {align-self: flex-end;width: 50%;}#sk-container-id-5 div.sk-parallel-item:last-child::after {align-self: flex-start;width: 50%;}#sk-container-id-5 div.sk-parallel-item:only-child::after {width: 0;}#sk-container-id-5 div.sk-dashed-wrapped {border: 1px dashed gray;margin: 0 0.4em 0.5em 0.4em;box-sizing: border-box;padding-bottom: 0.4em;background-color: white;}#sk-container-id-5 div.sk-label label {font-family: monospace;font-weight: bold;display: inline-block;line-height: 1.2em;}#sk-container-id-5 div.sk-label-container {text-align: center;}#sk-container-id-5 div.sk-container {/* jupyter's `normalize.less` sets `[hidden] { display: none; }` but bootstrap.min.css set `[hidden] { display: none !important; }` so we also need the `!important` here to be able to override the default hidden behavior on the sphinx rendered scikit-learn.org. See: https://github.com/scikit-learn/scikit-learn/issues/21755 */display: inline-block !important;position: relative;}#sk-container-id-5 div.sk-text-repr-fallback {display: none;}</style><div id=\"sk-container-id-5\" class=\"sk-top-container\"><div class=\"sk-text-repr-fallback\"><pre>DecisionTreeClassifier()</pre><b>In a Jupyter environment, please rerun this cell to show the HTML representation or trust the notebook. <br />On GitHub, the HTML representation is unable to render, please try loading this page with nbviewer.org.</b></div><div class=\"sk-container\" hidden><div class=\"sk-item\"><div class=\"sk-estimator sk-toggleable\"><input class=\"sk-toggleable__control sk-hidden--visually\" id=\"sk-estimator-id-7\" type=\"checkbox\" checked><label for=\"sk-estimator-id-7\" class=\"sk-toggleable__label sk-toggleable__label-arrow\">DecisionTreeClassifier</label><div class=\"sk-toggleable__content\"><pre>DecisionTreeClassifier()</pre></div></div></div></div></div>"
      ],
      "text/plain": [
       "DecisionTreeClassifier()"
      ]
     },
     "execution_count": 80,
     "metadata": {},
     "output_type": "execute_result"
    }
   ],
   "source": [
    "dtc.fit(x_train,y_train)"
   ]
  },
  {
   "cell_type": "code",
   "execution_count": 81,
   "id": "f253f49a",
   "metadata": {},
   "outputs": [],
   "source": [
    "y_pred_dtc= dtc.predict(x_test)"
   ]
  },
  {
   "cell_type": "code",
   "execution_count": 82,
   "id": "f4a79a37",
   "metadata": {},
   "outputs": [],
   "source": [
    "y_pred_dtc_train=dtc.predict(x_train)"
   ]
  },
  {
   "cell_type": "markdown",
   "id": "596bcb41",
   "metadata": {},
   "source": [
    "# Model Evaluation Decision Tree"
   ]
  },
  {
   "cell_type": "code",
   "execution_count": 83,
   "id": "2081e6b2",
   "metadata": {
    "scrolled": true
   },
   "outputs": [
    {
     "name": "stdout",
     "output_type": "stream",
     "text": [
      " accuracy_score for test data : 0.9951234930238858\n",
      " accuracy_score for train data : 1.0\n"
     ]
    }
   ],
   "source": [
    "print(f\" accuracy_score for test data : {accuracy_score(y_test,y_pred_dtc)}\")\n",
    "print(f\" accuracy_score for train data : {accuracy_score(y_train,y_pred_dtc_train)}\")"
   ]
  },
  {
   "cell_type": "code",
   "execution_count": 84,
   "id": "94461b2b",
   "metadata": {},
   "outputs": [
    {
     "name": "stdout",
     "output_type": "stream",
     "text": [
      "precision_score for test data: 0.995123516215482\n"
     ]
    }
   ],
   "source": [
    "print(\"precision_score for test data:\",precision_score(y_test,y_pred_dtc,average='weighted'))"
   ]
  },
  {
   "cell_type": "code",
   "execution_count": 85,
   "id": "96b9abb2",
   "metadata": {},
   "outputs": [
    {
     "name": "stdout",
     "output_type": "stream",
     "text": [
      "recall_score for test data: 0.9951234930238858\n"
     ]
    }
   ],
   "source": [
    "print(\"recall_score for test data:\",recall_score(y_test,y_pred_dtc,average='weighted'))"
   ]
  },
  {
   "cell_type": "code",
   "execution_count": 86,
   "id": "f4818b12",
   "metadata": {
    "scrolled": true
   },
   "outputs": [
    {
     "name": "stdout",
     "output_type": "stream",
     "text": [
      "classification_report for test data :               precision    recall  f1-score   support\n",
      "\n",
      "           0       1.00      1.00      1.00     11162\n",
      "           1       0.99      1.00      1.00     10985\n",
      "\n",
      "    accuracy                           1.00     22147\n",
      "   macro avg       1.00      1.00      1.00     22147\n",
      "weighted avg       1.00      1.00      1.00     22147\n",
      "\n",
      "classification_report for train data :               precision    recall  f1-score   support\n",
      "\n",
      "           0       1.00      1.00      1.00     33061\n",
      "           1       1.00      1.00      1.00     33380\n",
      "\n",
      "    accuracy                           1.00     66441\n",
      "   macro avg       1.00      1.00      1.00     66441\n",
      "weighted avg       1.00      1.00      1.00     66441\n",
      "\n"
     ]
    }
   ],
   "source": [
    "print(f\"classification_report for test data : {classification_report(y_test,y_pred_dtc)}\")\n",
    "print(f\"classification_report for train data : {classification_report(y_train,y_pred_dtc_train)}\")"
   ]
  },
  {
   "cell_type": "markdown",
   "id": "ace17644",
   "metadata": {},
   "source": [
    "**Upon examining the variance in evaluation scores between our training and testing datasets, it has become evident that our model is experiencing overfitting. In response to this observation, we are now engaged in the process of hyperparameter tuning to enhance our model's performance and achieve more favorable evaluation scores.**"
   ]
  },
  {
   "cell_type": "markdown",
   "id": "7e1fb0c9",
   "metadata": {},
   "source": [
    "### HyperParameter Tuning for Decision Tree"
   ]
  },
  {
   "cell_type": "code",
   "execution_count": 87,
   "id": "d724453a",
   "metadata": {},
   "outputs": [],
   "source": [
    "param_grid = {\n",
    "    'criterion': ['gini', 'entropy'],\n",
    "    'splitter': ['best', 'random'],\n",
    "    'max_depth': [None, 10, 20, 30],\n",
    "    'min_samples_split': [2, 5, 10],\n",
    "    'min_samples_leaf': [1, 2, 4]\n",
    "}"
   ]
  },
  {
   "cell_type": "code",
   "execution_count": 88,
   "id": "a9f7e27c",
   "metadata": {},
   "outputs": [],
   "source": [
    "# Use GridSearchCV to find the best hyperparameters\n",
    "grid_search = GridSearchCV(dtc, param_grid, cv=5, scoring='accuracy')\n",
    "grid_search.fit(x_train, y_train)\n",
    "\n",
    "# Get the best hyperparameters\n",
    "best_params = grid_search.best_params_"
   ]
  },
  {
   "cell_type": "code",
   "execution_count": 89,
   "id": "bd45bddc",
   "metadata": {},
   "outputs": [],
   "source": [
    "# Train the model with the best hyperparameters\n",
    "best_dt_classifier = DecisionTreeClassifier(**best_params)\n",
    "best_dt_classifier.fit(x_train, y_train)\n",
    "\n",
    "# Make predictions on the test set\n",
    "y_pred = best_dt_classifier.predict(x_test)"
   ]
  },
  {
   "cell_type": "code",
   "execution_count": 90,
   "id": "4a1512ab",
   "metadata": {},
   "outputs": [
    {
     "name": "stdout",
     "output_type": "stream",
     "text": [
      "Test Accuracy for Decision Tree: 0.9958910913442001\n"
     ]
    }
   ],
   "source": [
    "accuracy = accuracy_score(y_test, y_pred)\n",
    "print(\"Test Accuracy for Decision Tree:\", accuracy)\n"
   ]
  },
  {
   "cell_type": "markdown",
   "id": "1d22c4e9",
   "metadata": {},
   "source": [
    "# Model creation by using Random Forest Classifier"
   ]
  },
  {
   "cell_type": "code",
   "execution_count": 91,
   "id": "942d5d39",
   "metadata": {},
   "outputs": [],
   "source": [
    "rfc=RandomForestClassifier()"
   ]
  },
  {
   "cell_type": "code",
   "execution_count": 92,
   "id": "f502bff5",
   "metadata": {},
   "outputs": [
    {
     "data": {
      "text/html": [
       "<style>#sk-container-id-6 {color: black;background-color: white;}#sk-container-id-6 pre{padding: 0;}#sk-container-id-6 div.sk-toggleable {background-color: white;}#sk-container-id-6 label.sk-toggleable__label {cursor: pointer;display: block;width: 100%;margin-bottom: 0;padding: 0.3em;box-sizing: border-box;text-align: center;}#sk-container-id-6 label.sk-toggleable__label-arrow:before {content: \"▸\";float: left;margin-right: 0.25em;color: #696969;}#sk-container-id-6 label.sk-toggleable__label-arrow:hover:before {color: black;}#sk-container-id-6 div.sk-estimator:hover label.sk-toggleable__label-arrow:before {color: black;}#sk-container-id-6 div.sk-toggleable__content {max-height: 0;max-width: 0;overflow: hidden;text-align: left;background-color: #f0f8ff;}#sk-container-id-6 div.sk-toggleable__content pre {margin: 0.2em;color: black;border-radius: 0.25em;background-color: #f0f8ff;}#sk-container-id-6 input.sk-toggleable__control:checked~div.sk-toggleable__content {max-height: 200px;max-width: 100%;overflow: auto;}#sk-container-id-6 input.sk-toggleable__control:checked~label.sk-toggleable__label-arrow:before {content: \"▾\";}#sk-container-id-6 div.sk-estimator input.sk-toggleable__control:checked~label.sk-toggleable__label {background-color: #d4ebff;}#sk-container-id-6 div.sk-label input.sk-toggleable__control:checked~label.sk-toggleable__label {background-color: #d4ebff;}#sk-container-id-6 input.sk-hidden--visually {border: 0;clip: rect(1px 1px 1px 1px);clip: rect(1px, 1px, 1px, 1px);height: 1px;margin: -1px;overflow: hidden;padding: 0;position: absolute;width: 1px;}#sk-container-id-6 div.sk-estimator {font-family: monospace;background-color: #f0f8ff;border: 1px dotted black;border-radius: 0.25em;box-sizing: border-box;margin-bottom: 0.5em;}#sk-container-id-6 div.sk-estimator:hover {background-color: #d4ebff;}#sk-container-id-6 div.sk-parallel-item::after {content: \"\";width: 100%;border-bottom: 1px solid gray;flex-grow: 1;}#sk-container-id-6 div.sk-label:hover label.sk-toggleable__label {background-color: #d4ebff;}#sk-container-id-6 div.sk-serial::before {content: \"\";position: absolute;border-left: 1px solid gray;box-sizing: border-box;top: 0;bottom: 0;left: 50%;z-index: 0;}#sk-container-id-6 div.sk-serial {display: flex;flex-direction: column;align-items: center;background-color: white;padding-right: 0.2em;padding-left: 0.2em;position: relative;}#sk-container-id-6 div.sk-item {position: relative;z-index: 1;}#sk-container-id-6 div.sk-parallel {display: flex;align-items: stretch;justify-content: center;background-color: white;position: relative;}#sk-container-id-6 div.sk-item::before, #sk-container-id-6 div.sk-parallel-item::before {content: \"\";position: absolute;border-left: 1px solid gray;box-sizing: border-box;top: 0;bottom: 0;left: 50%;z-index: -1;}#sk-container-id-6 div.sk-parallel-item {display: flex;flex-direction: column;z-index: 1;position: relative;background-color: white;}#sk-container-id-6 div.sk-parallel-item:first-child::after {align-self: flex-end;width: 50%;}#sk-container-id-6 div.sk-parallel-item:last-child::after {align-self: flex-start;width: 50%;}#sk-container-id-6 div.sk-parallel-item:only-child::after {width: 0;}#sk-container-id-6 div.sk-dashed-wrapped {border: 1px dashed gray;margin: 0 0.4em 0.5em 0.4em;box-sizing: border-box;padding-bottom: 0.4em;background-color: white;}#sk-container-id-6 div.sk-label label {font-family: monospace;font-weight: bold;display: inline-block;line-height: 1.2em;}#sk-container-id-6 div.sk-label-container {text-align: center;}#sk-container-id-6 div.sk-container {/* jupyter's `normalize.less` sets `[hidden] { display: none; }` but bootstrap.min.css set `[hidden] { display: none !important; }` so we also need the `!important` here to be able to override the default hidden behavior on the sphinx rendered scikit-learn.org. See: https://github.com/scikit-learn/scikit-learn/issues/21755 */display: inline-block !important;position: relative;}#sk-container-id-6 div.sk-text-repr-fallback {display: none;}</style><div id=\"sk-container-id-6\" class=\"sk-top-container\"><div class=\"sk-text-repr-fallback\"><pre>RandomForestClassifier()</pre><b>In a Jupyter environment, please rerun this cell to show the HTML representation or trust the notebook. <br />On GitHub, the HTML representation is unable to render, please try loading this page with nbviewer.org.</b></div><div class=\"sk-container\" hidden><div class=\"sk-item\"><div class=\"sk-estimator sk-toggleable\"><input class=\"sk-toggleable__control sk-hidden--visually\" id=\"sk-estimator-id-8\" type=\"checkbox\" checked><label for=\"sk-estimator-id-8\" class=\"sk-toggleable__label sk-toggleable__label-arrow\">RandomForestClassifier</label><div class=\"sk-toggleable__content\"><pre>RandomForestClassifier()</pre></div></div></div></div></div>"
      ],
      "text/plain": [
       "RandomForestClassifier()"
      ]
     },
     "execution_count": 92,
     "metadata": {},
     "output_type": "execute_result"
    }
   ],
   "source": [
    "rfc.fit(x_train,y_train)"
   ]
  },
  {
   "cell_type": "code",
   "execution_count": 93,
   "id": "bbfba1d8",
   "metadata": {},
   "outputs": [],
   "source": [
    "y_pred_rfc=rfc.predict(x_test)"
   ]
  },
  {
   "cell_type": "code",
   "execution_count": 94,
   "id": "0779c36e",
   "metadata": {},
   "outputs": [],
   "source": [
    "y_pred_rfc_train = rfc.predict(x_train)"
   ]
  },
  {
   "cell_type": "markdown",
   "id": "7d64560f",
   "metadata": {},
   "source": [
    "# Model Evaluation Random Forest Classifier"
   ]
  },
  {
   "cell_type": "code",
   "execution_count": 95,
   "id": "a01be69e",
   "metadata": {},
   "outputs": [
    {
     "name": "stdout",
     "output_type": "stream",
     "text": [
      " accuracy_score for test data : 0.9989614846254572\n",
      " accuracy_score for train data : 1.0\n"
     ]
    }
   ],
   "source": [
    "print(f\" accuracy_score for test data : {accuracy_score(y_test,y_pred_rfc)}\")\n",
    "print(f\" accuracy_score for train data : {accuracy_score(y_train,y_pred_rfc_train)}\")"
   ]
  },
  {
   "cell_type": "code",
   "execution_count": 96,
   "id": "ccdfaa52",
   "metadata": {},
   "outputs": [
    {
     "name": "stdout",
     "output_type": "stream",
     "text": [
      "precision_score for test data: 0.9989621820777737\n"
     ]
    }
   ],
   "source": [
    "print(\"precision_score for test data:\",precision_score(y_test,y_pred_rfc,average='weighted'))"
   ]
  },
  {
   "cell_type": "code",
   "execution_count": 97,
   "id": "cf7f65a4",
   "metadata": {},
   "outputs": [
    {
     "name": "stdout",
     "output_type": "stream",
     "text": [
      "recall_score for test data: 0.9989614846254572\n"
     ]
    }
   ],
   "source": [
    "print(\"recall_score for test data:\",recall_score(y_test,y_pred_rfc,average='weighted'))"
   ]
  },
  {
   "cell_type": "code",
   "execution_count": 98,
   "id": "d1237c6c",
   "metadata": {
    "scrolled": true
   },
   "outputs": [
    {
     "name": "stdout",
     "output_type": "stream",
     "text": [
      "classification_report for test data :               precision    recall  f1-score   support\n",
      "\n",
      "           0       1.00      1.00      1.00     11162\n",
      "           1       1.00      1.00      1.00     10985\n",
      "\n",
      "    accuracy                           1.00     22147\n",
      "   macro avg       1.00      1.00      1.00     22147\n",
      "weighted avg       1.00      1.00      1.00     22147\n",
      "\n",
      "classification_report for train data :               precision    recall  f1-score   support\n",
      "\n",
      "           0       1.00      1.00      1.00     33061\n",
      "           1       1.00      1.00      1.00     33380\n",
      "\n",
      "    accuracy                           1.00     66441\n",
      "   macro avg       1.00      1.00      1.00     66441\n",
      "weighted avg       1.00      1.00      1.00     66441\n",
      "\n"
     ]
    }
   ],
   "source": [
    "print(f\"classification_report for test data : {classification_report(y_test,y_pred_rfc)}\")\n",
    "print(f\"classification_report for train data : {classification_report(y_train,y_pred_rfc_train)}\")"
   ]
  },
  {
   "cell_type": "markdown",
   "id": "57fedab8",
   "metadata": {},
   "source": [
    "### HyperParameter Tuning for Random_Forest"
   ]
  },
  {
   "cell_type": "code",
   "execution_count": 144,
   "id": "4946b8f4",
   "metadata": {},
   "outputs": [],
   "source": [
    "param_grid = {\n",
    "    'n_estimators': [10, 50, 100, 200],\n",
    "    'criterion': ['gini', 'entropy'],\n",
    "    'max_depth': [None, 10, 20, 30],\n",
    "    'min_samples_split': [2, 5, 10],\n",
    "    'min_samples_leaf': [1, 2, 4],\n",
    "    'max_features': ['auto', 'sqrt', 'log2']\n",
    "}\n",
    "\n"
   ]
  },
  {
   "cell_type": "code",
   "execution_count": 145,
   "id": "88c438e0",
   "metadata": {},
   "outputs": [
    {
     "data": {
      "text/html": [
       "<style>#sk-container-id-8 {color: black;background-color: white;}#sk-container-id-8 pre{padding: 0;}#sk-container-id-8 div.sk-toggleable {background-color: white;}#sk-container-id-8 label.sk-toggleable__label {cursor: pointer;display: block;width: 100%;margin-bottom: 0;padding: 0.3em;box-sizing: border-box;text-align: center;}#sk-container-id-8 label.sk-toggleable__label-arrow:before {content: \"▸\";float: left;margin-right: 0.25em;color: #696969;}#sk-container-id-8 label.sk-toggleable__label-arrow:hover:before {color: black;}#sk-container-id-8 div.sk-estimator:hover label.sk-toggleable__label-arrow:before {color: black;}#sk-container-id-8 div.sk-toggleable__content {max-height: 0;max-width: 0;overflow: hidden;text-align: left;background-color: #f0f8ff;}#sk-container-id-8 div.sk-toggleable__content pre {margin: 0.2em;color: black;border-radius: 0.25em;background-color: #f0f8ff;}#sk-container-id-8 input.sk-toggleable__control:checked~div.sk-toggleable__content {max-height: 200px;max-width: 100%;overflow: auto;}#sk-container-id-8 input.sk-toggleable__control:checked~label.sk-toggleable__label-arrow:before {content: \"▾\";}#sk-container-id-8 div.sk-estimator input.sk-toggleable__control:checked~label.sk-toggleable__label {background-color: #d4ebff;}#sk-container-id-8 div.sk-label input.sk-toggleable__control:checked~label.sk-toggleable__label {background-color: #d4ebff;}#sk-container-id-8 input.sk-hidden--visually {border: 0;clip: rect(1px 1px 1px 1px);clip: rect(1px, 1px, 1px, 1px);height: 1px;margin: -1px;overflow: hidden;padding: 0;position: absolute;width: 1px;}#sk-container-id-8 div.sk-estimator {font-family: monospace;background-color: #f0f8ff;border: 1px dotted black;border-radius: 0.25em;box-sizing: border-box;margin-bottom: 0.5em;}#sk-container-id-8 div.sk-estimator:hover {background-color: #d4ebff;}#sk-container-id-8 div.sk-parallel-item::after {content: \"\";width: 100%;border-bottom: 1px solid gray;flex-grow: 1;}#sk-container-id-8 div.sk-label:hover label.sk-toggleable__label {background-color: #d4ebff;}#sk-container-id-8 div.sk-serial::before {content: \"\";position: absolute;border-left: 1px solid gray;box-sizing: border-box;top: 0;bottom: 0;left: 50%;z-index: 0;}#sk-container-id-8 div.sk-serial {display: flex;flex-direction: column;align-items: center;background-color: white;padding-right: 0.2em;padding-left: 0.2em;position: relative;}#sk-container-id-8 div.sk-item {position: relative;z-index: 1;}#sk-container-id-8 div.sk-parallel {display: flex;align-items: stretch;justify-content: center;background-color: white;position: relative;}#sk-container-id-8 div.sk-item::before, #sk-container-id-8 div.sk-parallel-item::before {content: \"\";position: absolute;border-left: 1px solid gray;box-sizing: border-box;top: 0;bottom: 0;left: 50%;z-index: -1;}#sk-container-id-8 div.sk-parallel-item {display: flex;flex-direction: column;z-index: 1;position: relative;background-color: white;}#sk-container-id-8 div.sk-parallel-item:first-child::after {align-self: flex-end;width: 50%;}#sk-container-id-8 div.sk-parallel-item:last-child::after {align-self: flex-start;width: 50%;}#sk-container-id-8 div.sk-parallel-item:only-child::after {width: 0;}#sk-container-id-8 div.sk-dashed-wrapped {border: 1px dashed gray;margin: 0 0.4em 0.5em 0.4em;box-sizing: border-box;padding-bottom: 0.4em;background-color: white;}#sk-container-id-8 div.sk-label label {font-family: monospace;font-weight: bold;display: inline-block;line-height: 1.2em;}#sk-container-id-8 div.sk-label-container {text-align: center;}#sk-container-id-8 div.sk-container {/* jupyter's `normalize.less` sets `[hidden] { display: none; }` but bootstrap.min.css set `[hidden] { display: none !important; }` so we also need the `!important` here to be able to override the default hidden behavior on the sphinx rendered scikit-learn.org. See: https://github.com/scikit-learn/scikit-learn/issues/21755 */display: inline-block !important;position: relative;}#sk-container-id-8 div.sk-text-repr-fallback {display: none;}</style><div id=\"sk-container-id-8\" class=\"sk-top-container\"><div class=\"sk-text-repr-fallback\"><pre>RandomizedSearchCV(cv=5, estimator=RandomForestClassifier(),\n",
       "                   param_distributions={&#x27;criterion&#x27;: [&#x27;gini&#x27;, &#x27;entropy&#x27;],\n",
       "                                        &#x27;max_depth&#x27;: [None, 10, 20, 30],\n",
       "                                        &#x27;max_features&#x27;: [&#x27;auto&#x27;, &#x27;sqrt&#x27;,\n",
       "                                                         &#x27;log2&#x27;],\n",
       "                                        &#x27;min_samples_leaf&#x27;: [1, 2, 4],\n",
       "                                        &#x27;min_samples_split&#x27;: [2, 5, 10],\n",
       "                                        &#x27;n_estimators&#x27;: [10, 50, 100, 200]},\n",
       "                   scoring=&#x27;accuracy&#x27;)</pre><b>In a Jupyter environment, please rerun this cell to show the HTML representation or trust the notebook. <br />On GitHub, the HTML representation is unable to render, please try loading this page with nbviewer.org.</b></div><div class=\"sk-container\" hidden><div class=\"sk-item sk-dashed-wrapped\"><div class=\"sk-label-container\"><div class=\"sk-label sk-toggleable\"><input class=\"sk-toggleable__control sk-hidden--visually\" id=\"sk-estimator-id-10\" type=\"checkbox\" ><label for=\"sk-estimator-id-10\" class=\"sk-toggleable__label sk-toggleable__label-arrow\">RandomizedSearchCV</label><div class=\"sk-toggleable__content\"><pre>RandomizedSearchCV(cv=5, estimator=RandomForestClassifier(),\n",
       "                   param_distributions={&#x27;criterion&#x27;: [&#x27;gini&#x27;, &#x27;entropy&#x27;],\n",
       "                                        &#x27;max_depth&#x27;: [None, 10, 20, 30],\n",
       "                                        &#x27;max_features&#x27;: [&#x27;auto&#x27;, &#x27;sqrt&#x27;,\n",
       "                                                         &#x27;log2&#x27;],\n",
       "                                        &#x27;min_samples_leaf&#x27;: [1, 2, 4],\n",
       "                                        &#x27;min_samples_split&#x27;: [2, 5, 10],\n",
       "                                        &#x27;n_estimators&#x27;: [10, 50, 100, 200]},\n",
       "                   scoring=&#x27;accuracy&#x27;)</pre></div></div></div><div class=\"sk-parallel\"><div class=\"sk-parallel-item\"><div class=\"sk-item\"><div class=\"sk-label-container\"><div class=\"sk-label sk-toggleable\"><input class=\"sk-toggleable__control sk-hidden--visually\" id=\"sk-estimator-id-11\" type=\"checkbox\" ><label for=\"sk-estimator-id-11\" class=\"sk-toggleable__label sk-toggleable__label-arrow\">estimator: RandomForestClassifier</label><div class=\"sk-toggleable__content\"><pre>RandomForestClassifier()</pre></div></div></div><div class=\"sk-serial\"><div class=\"sk-item\"><div class=\"sk-estimator sk-toggleable\"><input class=\"sk-toggleable__control sk-hidden--visually\" id=\"sk-estimator-id-12\" type=\"checkbox\" ><label for=\"sk-estimator-id-12\" class=\"sk-toggleable__label sk-toggleable__label-arrow\">RandomForestClassifier</label><div class=\"sk-toggleable__content\"><pre>RandomForestClassifier()</pre></div></div></div></div></div></div></div></div></div></div>"
      ],
      "text/plain": [
       "RandomizedSearchCV(cv=5, estimator=RandomForestClassifier(),\n",
       "                   param_distributions={'criterion': ['gini', 'entropy'],\n",
       "                                        'max_depth': [None, 10, 20, 30],\n",
       "                                        'max_features': ['auto', 'sqrt',\n",
       "                                                         'log2'],\n",
       "                                        'min_samples_leaf': [1, 2, 4],\n",
       "                                        'min_samples_split': [2, 5, 10],\n",
       "                                        'n_estimators': [10, 50, 100, 200]},\n",
       "                   scoring='accuracy')"
      ]
     },
     "execution_count": 145,
     "metadata": {},
     "output_type": "execute_result"
    }
   ],
   "source": [
    "# Use GridSearchCV to find the best hyperparameters\n",
    "grid_search = RandomizedSearchCV(rfc, param_grid, cv=5, scoring='accuracy')\n",
    "grid_search.fit(x_train, y_train)"
   ]
  },
  {
   "cell_type": "code",
   "execution_count": null,
   "id": "ab699c1a",
   "metadata": {},
   "outputs": [],
   "source": [
    "# Get the best hyperparameters\n",
    "best_params = grid_search.best_params_\n",
    "\n",
    "# Train the model with the best hyperparameters\n",
    "best_rf_classifier = RandomForestClassifier(**best_params)\n",
    "best_rf_classifier.fit(x_train, y_train)\n"
   ]
  },
  {
   "cell_type": "code",
   "execution_count": null,
   "id": "193b3baa",
   "metadata": {},
   "outputs": [],
   "source": [
    "# Make predictions on the test set\n",
    "y_pred_rfc = best_rf_classifier.predict(X_test)\n",
    "\n",
    "# Evaluate the model\n",
    "accuracy = accuracy_score(y_test, y_pred_rfc)\n",
    "print(\"Best Hyperparameters:\", best_params)\n",
    "print(\"Test Accuracy:\", accuracy)"
   ]
  },
  {
   "cell_type": "markdown",
   "id": "d33c1e6d",
   "metadata": {},
   "source": [
    "# By using bagging base estimator is Decision Tree"
   ]
  },
  {
   "cell_type": "code",
   "execution_count": 114,
   "id": "1c80a158",
   "metadata": {},
   "outputs": [],
   "source": [
    "model_bagg = BaggingClassifier(base_estimator=dtc, n_estimators=30,random_state=15)\n",
    "\n",
    "model_bagg.fit(x_train,y_train)\n",
    "\n",
    "y_pred_bagg = model_bagg.predict(x_test)"
   ]
  },
  {
   "cell_type": "code",
   "execution_count": 115,
   "id": "4d8c4cb7",
   "metadata": {},
   "outputs": [],
   "source": [
    "y_pred_bagg_train=model_bagg.predict(x_train)"
   ]
  },
  {
   "cell_type": "code",
   "execution_count": 116,
   "id": "9432fecd",
   "metadata": {
    "scrolled": true
   },
   "outputs": [
    {
     "name": "stdout",
     "output_type": "stream",
     "text": [
      " accuracy_score for test data : 0.9973811351424572\n",
      " accuracy_score for train data : 0.9999698981050857\n"
     ]
    }
   ],
   "source": [
    "print(f\" accuracy_score for test data : {accuracy_score(y_test,y_pred_bagg)}\")\n",
    "print(f\" accuracy_score for train data : {accuracy_score(y_train,y_pred_bagg_train)}\")"
   ]
  },
  {
   "cell_type": "code",
   "execution_count": 117,
   "id": "b810ce09",
   "metadata": {},
   "outputs": [
    {
     "name": "stdout",
     "output_type": "stream",
     "text": [
      "precision_score for test data: 0.9973824834282337\n"
     ]
    }
   ],
   "source": [
    "print(\"precision_score for test data:\",precision_score(y_test,y_pred_bagg,average='weighted'))"
   ]
  },
  {
   "cell_type": "code",
   "execution_count": 118,
   "id": "be231f0d",
   "metadata": {},
   "outputs": [
    {
     "name": "stdout",
     "output_type": "stream",
     "text": [
      "recall_score for test data: 0.9973811351424572\n"
     ]
    }
   ],
   "source": [
    "print(\"recall_score for test data:\",recall_score(y_test,y_pred_bagg,average='weighted'))"
   ]
  },
  {
   "cell_type": "markdown",
   "id": "04ee6fc5",
   "metadata": {},
   "source": [
    "## Model creation by using  XGBoost"
   ]
  },
  {
   "cell_type": "code",
   "execution_count": 119,
   "id": "0bb0345e",
   "metadata": {},
   "outputs": [
    {
     "data": {
      "text/html": [
       "<style>#sk-container-id-7 {color: black;background-color: white;}#sk-container-id-7 pre{padding: 0;}#sk-container-id-7 div.sk-toggleable {background-color: white;}#sk-container-id-7 label.sk-toggleable__label {cursor: pointer;display: block;width: 100%;margin-bottom: 0;padding: 0.3em;box-sizing: border-box;text-align: center;}#sk-container-id-7 label.sk-toggleable__label-arrow:before {content: \"▸\";float: left;margin-right: 0.25em;color: #696969;}#sk-container-id-7 label.sk-toggleable__label-arrow:hover:before {color: black;}#sk-container-id-7 div.sk-estimator:hover label.sk-toggleable__label-arrow:before {color: black;}#sk-container-id-7 div.sk-toggleable__content {max-height: 0;max-width: 0;overflow: hidden;text-align: left;background-color: #f0f8ff;}#sk-container-id-7 div.sk-toggleable__content pre {margin: 0.2em;color: black;border-radius: 0.25em;background-color: #f0f8ff;}#sk-container-id-7 input.sk-toggleable__control:checked~div.sk-toggleable__content {max-height: 200px;max-width: 100%;overflow: auto;}#sk-container-id-7 input.sk-toggleable__control:checked~label.sk-toggleable__label-arrow:before {content: \"▾\";}#sk-container-id-7 div.sk-estimator input.sk-toggleable__control:checked~label.sk-toggleable__label {background-color: #d4ebff;}#sk-container-id-7 div.sk-label input.sk-toggleable__control:checked~label.sk-toggleable__label {background-color: #d4ebff;}#sk-container-id-7 input.sk-hidden--visually {border: 0;clip: rect(1px 1px 1px 1px);clip: rect(1px, 1px, 1px, 1px);height: 1px;margin: -1px;overflow: hidden;padding: 0;position: absolute;width: 1px;}#sk-container-id-7 div.sk-estimator {font-family: monospace;background-color: #f0f8ff;border: 1px dotted black;border-radius: 0.25em;box-sizing: border-box;margin-bottom: 0.5em;}#sk-container-id-7 div.sk-estimator:hover {background-color: #d4ebff;}#sk-container-id-7 div.sk-parallel-item::after {content: \"\";width: 100%;border-bottom: 1px solid gray;flex-grow: 1;}#sk-container-id-7 div.sk-label:hover label.sk-toggleable__label {background-color: #d4ebff;}#sk-container-id-7 div.sk-serial::before {content: \"\";position: absolute;border-left: 1px solid gray;box-sizing: border-box;top: 0;bottom: 0;left: 50%;z-index: 0;}#sk-container-id-7 div.sk-serial {display: flex;flex-direction: column;align-items: center;background-color: white;padding-right: 0.2em;padding-left: 0.2em;position: relative;}#sk-container-id-7 div.sk-item {position: relative;z-index: 1;}#sk-container-id-7 div.sk-parallel {display: flex;align-items: stretch;justify-content: center;background-color: white;position: relative;}#sk-container-id-7 div.sk-item::before, #sk-container-id-7 div.sk-parallel-item::before {content: \"\";position: absolute;border-left: 1px solid gray;box-sizing: border-box;top: 0;bottom: 0;left: 50%;z-index: -1;}#sk-container-id-7 div.sk-parallel-item {display: flex;flex-direction: column;z-index: 1;position: relative;background-color: white;}#sk-container-id-7 div.sk-parallel-item:first-child::after {align-self: flex-end;width: 50%;}#sk-container-id-7 div.sk-parallel-item:last-child::after {align-self: flex-start;width: 50%;}#sk-container-id-7 div.sk-parallel-item:only-child::after {width: 0;}#sk-container-id-7 div.sk-dashed-wrapped {border: 1px dashed gray;margin: 0 0.4em 0.5em 0.4em;box-sizing: border-box;padding-bottom: 0.4em;background-color: white;}#sk-container-id-7 div.sk-label label {font-family: monospace;font-weight: bold;display: inline-block;line-height: 1.2em;}#sk-container-id-7 div.sk-label-container {text-align: center;}#sk-container-id-7 div.sk-container {/* jupyter's `normalize.less` sets `[hidden] { display: none; }` but bootstrap.min.css set `[hidden] { display: none !important; }` so we also need the `!important` here to be able to override the default hidden behavior on the sphinx rendered scikit-learn.org. See: https://github.com/scikit-learn/scikit-learn/issues/21755 */display: inline-block !important;position: relative;}#sk-container-id-7 div.sk-text-repr-fallback {display: none;}</style><div id=\"sk-container-id-7\" class=\"sk-top-container\"><div class=\"sk-text-repr-fallback\"><pre>XGBClassifier(base_score=None, booster=None, callbacks=None,\n",
       "              colsample_bylevel=None, colsample_bynode=None,\n",
       "              colsample_bytree=None, device=None, early_stopping_rounds=None,\n",
       "              enable_categorical=False, eval_metric=None, feature_types=None,\n",
       "              gamma=None, grow_policy=None, importance_type=None,\n",
       "              interaction_constraints=None, learning_rate=None, max_bin=None,\n",
       "              max_cat_threshold=None, max_cat_to_onehot=None,\n",
       "              max_delta_step=None, max_depth=None, max_leaves=None,\n",
       "              min_child_weight=None, missing=nan, monotone_constraints=None,\n",
       "              multi_strategy=None, n_estimators=None, n_jobs=None,\n",
       "              num_parallel_tree=None, random_state=None, ...)</pre><b>In a Jupyter environment, please rerun this cell to show the HTML representation or trust the notebook. <br />On GitHub, the HTML representation is unable to render, please try loading this page with nbviewer.org.</b></div><div class=\"sk-container\" hidden><div class=\"sk-item\"><div class=\"sk-estimator sk-toggleable\"><input class=\"sk-toggleable__control sk-hidden--visually\" id=\"sk-estimator-id-9\" type=\"checkbox\" checked><label for=\"sk-estimator-id-9\" class=\"sk-toggleable__label sk-toggleable__label-arrow\">XGBClassifier</label><div class=\"sk-toggleable__content\"><pre>XGBClassifier(base_score=None, booster=None, callbacks=None,\n",
       "              colsample_bylevel=None, colsample_bynode=None,\n",
       "              colsample_bytree=None, device=None, early_stopping_rounds=None,\n",
       "              enable_categorical=False, eval_metric=None, feature_types=None,\n",
       "              gamma=None, grow_policy=None, importance_type=None,\n",
       "              interaction_constraints=None, learning_rate=None, max_bin=None,\n",
       "              max_cat_threshold=None, max_cat_to_onehot=None,\n",
       "              max_delta_step=None, max_depth=None, max_leaves=None,\n",
       "              min_child_weight=None, missing=nan, monotone_constraints=None,\n",
       "              multi_strategy=None, n_estimators=None, n_jobs=None,\n",
       "              num_parallel_tree=None, random_state=None, ...)</pre></div></div></div></div></div>"
      ],
      "text/plain": [
       "XGBClassifier(base_score=None, booster=None, callbacks=None,\n",
       "              colsample_bylevel=None, colsample_bynode=None,\n",
       "              colsample_bytree=None, device=None, early_stopping_rounds=None,\n",
       "              enable_categorical=False, eval_metric=None, feature_types=None,\n",
       "              gamma=None, grow_policy=None, importance_type=None,\n",
       "              interaction_constraints=None, learning_rate=None, max_bin=None,\n",
       "              max_cat_threshold=None, max_cat_to_onehot=None,\n",
       "              max_delta_step=None, max_depth=None, max_leaves=None,\n",
       "              min_child_weight=None, missing=nan, monotone_constraints=None,\n",
       "              multi_strategy=None, n_estimators=None, n_jobs=None,\n",
       "              num_parallel_tree=None, random_state=None, ...)"
      ]
     },
     "execution_count": 119,
     "metadata": {},
     "output_type": "execute_result"
    }
   ],
   "source": [
    "from xgboost import XGBClassifier\n",
    "xgc=XGBClassifier() \n",
    "xgc.fit(x_train,y_train)"
   ]
  },
  {
   "cell_type": "code",
   "execution_count": 120,
   "id": "ac3b201f",
   "metadata": {},
   "outputs": [],
   "source": [
    "y_pred_xgc = xgc.predict(x_test)"
   ]
  },
  {
   "cell_type": "code",
   "execution_count": 121,
   "id": "7a86fdf9",
   "metadata": {},
   "outputs": [],
   "source": [
    "y_pred_xgc_train= xgc.predict(x_train)"
   ]
  },
  {
   "cell_type": "markdown",
   "id": "dcaa58b2",
   "metadata": {},
   "source": [
    "# Model Evaluation XGBoost Classifier"
   ]
  },
  {
   "cell_type": "code",
   "execution_count": 122,
   "id": "600d0575",
   "metadata": {
    "scrolled": true
   },
   "outputs": [
    {
     "name": "stdout",
     "output_type": "stream",
     "text": [
      " accuracy_score for test data : 0.9996839301034\n",
      " accuracy_score for train data : 1.0\n"
     ]
    }
   ],
   "source": [
    "print(f\" accuracy_score for test data : {accuracy_score(y_test,y_pred_xgc)}\")\n",
    "print(f\" accuracy_score for train data : {accuracy_score(y_train,y_pred_xgc_train)}\")"
   ]
  },
  {
   "cell_type": "code",
   "execution_count": 123,
   "id": "b0ed85c7",
   "metadata": {},
   "outputs": [
    {
     "name": "stdout",
     "output_type": "stream",
     "text": [
      "precision_score for test data: 0.9996841313851755\n"
     ]
    }
   ],
   "source": [
    "print(\"precision_score for test data:\",precision_score(y_test,y_pred_xgc,average='weighted'))"
   ]
  },
  {
   "cell_type": "code",
   "execution_count": 124,
   "id": "1ef36245",
   "metadata": {},
   "outputs": [
    {
     "name": "stdout",
     "output_type": "stream",
     "text": [
      "recall_score for test data: 0.9996839301034\n"
     ]
    }
   ],
   "source": [
    "print(\"recall_score for test data:\",recall_score(y_test,y_pred_xgc,average='weighted'))"
   ]
  },
  {
   "cell_type": "code",
   "execution_count": 125,
   "id": "bfc251b7",
   "metadata": {
    "scrolled": true
   },
   "outputs": [
    {
     "name": "stdout",
     "output_type": "stream",
     "text": [
      "classification_report for test data :               precision    recall  f1-score   support\n",
      "\n",
      "           0       1.00      1.00      1.00     11162\n",
      "           1       1.00      1.00      1.00     10985\n",
      "\n",
      "    accuracy                           1.00     22147\n",
      "   macro avg       1.00      1.00      1.00     22147\n",
      "weighted avg       1.00      1.00      1.00     22147\n",
      "\n",
      "classification_report for train data :               precision    recall  f1-score   support\n",
      "\n",
      "           0       1.00      1.00      1.00     33061\n",
      "           1       1.00      1.00      1.00     33380\n",
      "\n",
      "    accuracy                           1.00     66441\n",
      "   macro avg       1.00      1.00      1.00     66441\n",
      "weighted avg       1.00      1.00      1.00     66441\n",
      "\n"
     ]
    }
   ],
   "source": [
    "# classification report for test data \n",
    "print(f\"classification_report for test data : {classification_report(y_test,y_pred_xgc)}\")\n",
    "# classification report for train data \n",
    "print(f\"classification_report for train data : {classification_report(y_train,y_pred_xgc_train)}\")"
   ]
  },
  {
   "cell_type": "code",
   "execution_count": 126,
   "id": "c78c97a2",
   "metadata": {
    "scrolled": false
   },
   "outputs": [
    {
     "name": "stdout",
     "output_type": "stream",
     "text": [
      "classification_report for test data :               precision    recall  f1-score   support\n",
      "\n",
      "           0       1.00      1.00      1.00     11162\n",
      "           1       1.00      1.00      1.00     10985\n",
      "\n",
      "    accuracy                           1.00     22147\n",
      "   macro avg       1.00      1.00      1.00     22147\n",
      "weighted avg       1.00      1.00      1.00     22147\n",
      "\n",
      "classification_report for train data :               precision    recall  f1-score   support\n",
      "\n",
      "           0       1.00      1.00      1.00     33061\n",
      "           1       1.00      1.00      1.00     33380\n",
      "\n",
      "    accuracy                           1.00     66441\n",
      "   macro avg       1.00      1.00      1.00     66441\n",
      "weighted avg       1.00      1.00      1.00     66441\n",
      "\n"
     ]
    }
   ],
   "source": [
    "y_pred_xgc = xgc.predict(x_test)\n",
    "\n",
    "y_pred_xgc_train= xgc.predict(x_train)\n",
    "# classification report for test data \n",
    "print(f\"classification_report for test data : {classification_report(y_test,y_pred_xgc)}\")\n",
    "# classification report for train data \n",
    "print(f\"classification_report for train data : {classification_report(y_train,y_pred_xgc_train)}\")"
   ]
  },
  {
   "cell_type": "markdown",
   "id": "eb875378",
   "metadata": {},
   "source": [
    "# Model creation by using Neural Networks"
   ]
  },
  {
   "cell_type": "markdown",
   "id": "069f6a57",
   "metadata": {},
   "source": [
    "## Model creation by using MLP Classifier"
   ]
  },
  {
   "cell_type": "code",
   "execution_count": 127,
   "id": "c1a34dd9",
   "metadata": {},
   "outputs": [],
   "source": [
    "# Standardize the data\n",
    "scaler = StandardScaler()\n",
    "x_train = scaler.fit_transform(x_train)\n",
    "x_test = scaler.transform(x_test)\n",
    "\n"
   ]
  },
  {
   "cell_type": "code",
   "execution_count": 128,
   "id": "b1f23066",
   "metadata": {},
   "outputs": [],
   "source": [
    "# Create the MLPClassifier\n",
    "mlp = MLPClassifier(hidden_layer_sizes=(64, 32), activation='relu', max_iter=1000, random_state=42)\n",
    "\n",
    "\n"
   ]
  },
  {
   "cell_type": "code",
   "execution_count": 129,
   "id": "742cea9e",
   "metadata": {},
   "outputs": [],
   "source": [
    "# Train the model\n",
    "mlp.fit(x_train, y_train)\n",
    "\n",
    "# Make predictions on the test set\n",
    "y_pred_mlp = mlp.predict(x_test)\n"
   ]
  },
  {
   "cell_type": "code",
   "execution_count": 130,
   "id": "5d0b439a",
   "metadata": {
    "scrolled": true
   },
   "outputs": [
    {
     "name": "stdout",
     "output_type": "stream",
     "text": [
      "Test Accuracy for MLP Classifier: 0.9978326635661715\n"
     ]
    }
   ],
   "source": [
    "# Evaluate the accuracy\n",
    "accuracy = accuracy_score(y_test, y_pred_mlp)\n",
    "print(f'Test Accuracy for MLP Classifier: {accuracy}')"
   ]
  },
  {
   "cell_type": "code",
   "execution_count": 137,
   "id": "a0c028ba",
   "metadata": {},
   "outputs": [
    {
     "name": "stdout",
     "output_type": "stream",
     "text": [
      "precision_score for test data: 0.9978326829353413\n"
     ]
    }
   ],
   "source": [
    "print(\"precision_score for test data:\",precision_score(y_test,y_pred_mlp,average='weighted'))"
   ]
  },
  {
   "cell_type": "code",
   "execution_count": 138,
   "id": "404851aa",
   "metadata": {},
   "outputs": [
    {
     "name": "stdout",
     "output_type": "stream",
     "text": [
      "recall_score for test data: 0.9978326635661715\n"
     ]
    }
   ],
   "source": [
    "print(\"recall_score for test data:\",recall_score(y_test,y_pred_mlp,average='weighted'))"
   ]
  },
  {
   "cell_type": "markdown",
   "id": "3127099a",
   "metadata": {},
   "source": [
    "## Model creation by using ANN"
   ]
  },
  {
   "cell_type": "code",
   "execution_count": 131,
   "id": "905f2d00",
   "metadata": {},
   "outputs": [
    {
     "name": "stdout",
     "output_type": "stream",
     "text": [
      "WARNING:tensorflow:From C:\\Users\\pujitha\\anaconda3\\Lib\\site-packages\\keras\\src\\backend.py:873: The name tf.get_default_graph is deprecated. Please use tf.compat.v1.get_default_graph instead.\n",
      "\n"
     ]
    }
   ],
   "source": [
    "# Build the neural network model\n",
    "model = keras.Sequential([\n",
    "    keras.layers.Dense(64, activation='relu', input_shape=(x_train.shape[1],)),\n",
    "    keras.layers.Dense(32, activation='relu'),\n",
    "    keras.layers.Dense(1, activation='sigmoid')  # Assuming 3 classes for iris dataset\n",
    "])\n",
    "\n",
    "\n"
   ]
  },
  {
   "cell_type": "code",
   "execution_count": 132,
   "id": "94e2b89d",
   "metadata": {},
   "outputs": [
    {
     "name": "stdout",
     "output_type": "stream",
     "text": [
      "WARNING:tensorflow:From C:\\Users\\pujitha\\anaconda3\\Lib\\site-packages\\keras\\src\\optimizers\\__init__.py:309: The name tf.train.Optimizer is deprecated. Please use tf.compat.v1.train.Optimizer instead.\n",
      "\n"
     ]
    }
   ],
   "source": [
    "# Compile the model\n",
    "model.compile(optimizer='adam', loss='binary_crossentropy', metrics=['accuracy'])"
   ]
  },
  {
   "cell_type": "code",
   "execution_count": 133,
   "id": "7c0c63ab",
   "metadata": {},
   "outputs": [
    {
     "name": "stdout",
     "output_type": "stream",
     "text": [
      "Epoch 1/15\n",
      "WARNING:tensorflow:From C:\\Users\\pujitha\\anaconda3\\Lib\\site-packages\\keras\\src\\utils\\tf_utils.py:492: The name tf.ragged.RaggedTensorValue is deprecated. Please use tf.compat.v1.ragged.RaggedTensorValue instead.\n",
      "\n",
      "WARNING:tensorflow:From C:\\Users\\pujitha\\anaconda3\\Lib\\site-packages\\keras\\src\\engine\\base_layer_utils.py:384: The name tf.executing_eagerly_outside_functions is deprecated. Please use tf.compat.v1.executing_eagerly_outside_functions instead.\n",
      "\n",
      "1661/1661 [==============================] - 3s 1ms/step - loss: 0.0566 - accuracy: 0.9808 - val_loss: 0.0192 - val_accuracy: 0.9932\n",
      "Epoch 2/15\n",
      "1661/1661 [==============================] - 2s 1ms/step - loss: 0.0154 - accuracy: 0.9948 - val_loss: 0.0140 - val_accuracy: 0.9959\n",
      "Epoch 3/15\n",
      "1661/1661 [==============================] - 2s 1ms/step - loss: 0.0113 - accuracy: 0.9963 - val_loss: 0.0123 - val_accuracy: 0.9956\n",
      "Epoch 4/15\n",
      "1661/1661 [==============================] - 2s 1ms/step - loss: 0.0101 - accuracy: 0.9967 - val_loss: 0.0115 - val_accuracy: 0.9963\n",
      "Epoch 5/15\n",
      "1661/1661 [==============================] - 2s 1ms/step - loss: 0.0091 - accuracy: 0.9970 - val_loss: 0.0110 - val_accuracy: 0.9960\n",
      "Epoch 6/15\n",
      "1661/1661 [==============================] - 2s 1ms/step - loss: 0.0083 - accuracy: 0.9972 - val_loss: 0.0097 - val_accuracy: 0.9966\n",
      "Epoch 7/15\n",
      "1661/1661 [==============================] - 2s 1ms/step - loss: 0.0081 - accuracy: 0.9973 - val_loss: 0.0104 - val_accuracy: 0.9970\n",
      "Epoch 8/15\n",
      "1661/1661 [==============================] - 2s 1ms/step - loss: 0.0077 - accuracy: 0.9972 - val_loss: 0.0102 - val_accuracy: 0.9968\n",
      "Epoch 9/15\n",
      "1661/1661 [==============================] - 2s 1ms/step - loss: 0.0071 - accuracy: 0.9977 - val_loss: 0.0103 - val_accuracy: 0.9967\n",
      "Epoch 10/15\n",
      "1661/1661 [==============================] - 2s 1ms/step - loss: 0.0068 - accuracy: 0.9978 - val_loss: 0.0097 - val_accuracy: 0.9975\n",
      "Epoch 11/15\n",
      "1661/1661 [==============================] - 2s 1ms/step - loss: 0.0066 - accuracy: 0.9979 - val_loss: 0.0103 - val_accuracy: 0.9965\n",
      "Epoch 12/15\n",
      "1661/1661 [==============================] - 2s 1ms/step - loss: 0.0065 - accuracy: 0.9979 - val_loss: 0.0094 - val_accuracy: 0.9968\n",
      "Epoch 13/15\n",
      "1661/1661 [==============================] - 2s 1ms/step - loss: 0.0065 - accuracy: 0.9977 - val_loss: 0.0094 - val_accuracy: 0.9974\n",
      "Epoch 14/15\n",
      "1661/1661 [==============================] - 2s 1ms/step - loss: 0.0060 - accuracy: 0.9980 - val_loss: 0.0097 - val_accuracy: 0.9974\n",
      "Epoch 15/15\n",
      "1661/1661 [==============================] - 2s 1ms/step - loss: 0.0063 - accuracy: 0.9978 - val_loss: 0.0097 - val_accuracy: 0.9971\n"
     ]
    },
    {
     "data": {
      "text/plain": [
       "<keras.src.callbacks.History at 0x13dae8a7090>"
      ]
     },
     "execution_count": 133,
     "metadata": {},
     "output_type": "execute_result"
    }
   ],
   "source": [
    "# Train the model\n",
    "model.fit(x_train, y_train, epochs=15, batch_size=32, validation_split=0.2)"
   ]
  },
  {
   "cell_type": "code",
   "execution_count": 134,
   "id": "4aff7eef",
   "metadata": {},
   "outputs": [
    {
     "name": "stdout",
     "output_type": "stream",
     "text": [
      "693/693 [==============================] - 1s 835us/step - loss: 0.0094 - accuracy: 0.9974\n"
     ]
    }
   ],
   "source": [
    "# Evaluate the model on the test set\n",
    "test_loss, test_accuracy = model.evaluate(x_test, y_test)\n"
   ]
  },
  {
   "cell_type": "code",
   "execution_count": 135,
   "id": "da18f99a",
   "metadata": {},
   "outputs": [
    {
     "name": "stdout",
     "output_type": "stream",
     "text": [
      "\n",
      "Test Accuracy for ANN : 0.9973811507225037\n"
     ]
    }
   ],
   "source": [
    "print(f'\\nTest Accuracy for ANN : {test_accuracy}')"
   ]
  },
  {
   "cell_type": "markdown",
   "id": "a4af2995",
   "metadata": {},
   "source": [
    "### Model Comparison Report:  \n",
    "**LogisticRegression Model:**  \n",
    "Accuracy_score : 0.94685510452883\n",
    "Precision_score: 0.9475684934839089 \n",
    "Recall_score   :0.94685510452883  \n",
    "* Logistic regression is known for its simplicity and interpretability, making it easy to understand and implement.  \n",
    "\n",
    "**K Nearest Neighbors Classifier Model:**  \n",
    "Accuracy_score : 0.9962523140831715  \n",
    "Precision_score:0.9962590071008431    \n",
    "Recall_score   :0.9962523140831715  \n",
    "* KNN is able to handle  the non-linear relationships in data without making strong assumptions.  \n",
    "\n",
    "**SVM Classifier Model:**  \n",
    "Accuracy_score : 0.5048539305549284   \n",
    "Precision_score:0.7522126749189508  \n",
    "Recall_score: 0.5048539305549284  \n",
    "* SVM's are effective in high-dimensional spaces and can handle non-linear relationships.  \n",
    "\n",
    "**Decision Tree Classifier Model:**  \n",
    "Accuracy_score :0.9951234930238858    \n",
    "Precision_score:0.995123516215482  \n",
    "Recall_score:0.9951234930238858  \n",
    "* Decision trees may be prone to overfitting, and their interpretability is a strength.  \n",
    "\n",
    "**Random Forest Classifier Model:**  \n",
    "Accuracy_score :0.9989614846254572    \n",
    "Precision_score:0.9989621820777737  \n",
    "Recall_score:0.9989614846254572 \n",
    "* Random Forests are an ensemble method known for handling complex relationships and reducing overfitting.  \n",
    "\n",
    "**Bagging using Decision Tree Classifier:**  \n",
    "Accuracy_score 0.9973811351424572  \n",
    "Precision_score:0.9973824834282337  \n",
    "Recall_score:0.9973811351424572   \n",
    "* Bagging reduces overfitting and improves model robustness,enhancing the generalization performance of the model.    \n",
    "\n",
    "**XGBoost Classifier:**  \n",
    "Accuracy_score :0.9996839301034  \n",
    "Precision_score:0.9996841313851755  \n",
    "Recall_score:0.9996839301034  \n",
    "* XGBoost is a powerful boosting algorithm known for its efficiency and performance.  \n",
    "\n",
    "**MLP:**  \n",
    "Accuracy_score :0.9978326829353413  \n",
    "Precision_score:0.9978326829353413   \n",
    "Recall_score:0.9978326635661715  \n",
    "\n",
    "**ANN:**  \n",
    "Accuracy_score :0.9973811507225037  \n",
    "\n"
   ]
  },
  {
   "attachments": {
    "1.png": {
     "image/png": "[encoded data removed]"
    }
   },
   "cell_type": "markdown",
   "id": "1cc62650",
   "metadata": {},
   "source": [
    "![1.png](attachment:1.png)"
   ]
  },
  {
   "cell_type": "markdown",
   "id": "c00d8fc8",
   "metadata": {},
   "source": [
    "### Conclusion:\n",
    "\n",
    "XGBoost emerges as the most effective model for accurately distinguishing between walking and running instances in our dataset. This determination underscores the significance of selecting a model that not only excels in accuracy but also demonstrates adaptability and reliability across different scenarios, making XGBoost the preferred choice for the walk-run classification task."
   ]
  },
  {
   "cell_type": "markdown",
   "id": "931af867",
   "metadata": {},
   "source": [
    "### Challenges Faced:\n",
    "Navigating the walk-run dataset presented challenges, primarily centered around the complexities of managing the date and time columns. Addressing these intricacies required careful consideration and specialized handling, adding a layer of complexity to the overall data processing and analysis tasks."
   ]
  }
 ],
 "metadata": {
  "kernelspec": {
   "display_name": "Python 3 (ipykernel)",
   "language": "python",
   "name": "python3"
  },
  "language_info": {
   "codemirror_mode": {
    "name": "ipython",
    "version": 3
   },
   "file_extension": ".py",
   "mimetype": "text/x-python",
   "name": "python",
   "nbconvert_exporter": "python",
   "pygments_lexer": "ipython3",
   "version": "3.11.3"
  }
 },
 "nbformat": 4,
 "nbformat_minor": 5
}
